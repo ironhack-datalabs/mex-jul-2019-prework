{
 "cells": [
  {
   "cell_type": "markdown",
   "metadata": {},
   "source": [
    "# Robin Hood:\n",
    "We are in a competition to win the archery contest in Sherwood. With our bow and arrows we shoot on a target and try to hit as close as possible to the center.\n",
    "\n",
    "The center of the target is represented by the values (0, 0) on the coordinate axes.\n",
    "\n",
    "![](images/arrows.jpg)\n",
    "\n",
    "## Goals:\n",
    "* data structures: lists, sets, tuples\n",
    "* logical operators: if-elif-else\n",
    "* loop: while/for\n",
    "* minimum (optional sorting)\n",
    "\n",
    "## Description:\n",
    "In the 2-dimensional space, a point can be defined by a pair of values that correspond to the horizontal coordinate (x) and the vertical coordinate (y). The space can be divided into 4 zones (quadrants): Q1, Q2, Q3, Q4. Whose single point of union is the point (0, 0).\n",
    "\n",
    "If a point is in Q1 both its x coordinate and the y are positive. I leave a link to wikipedia to familiarize yourself with these quadrants.\n",
    "\n",
    "https://en.wikipedia.org/wiki/Cartesian_coordinate_system\n",
    "\n",
    "https://en.wikipedia.org/wiki/Euclidean_distance\n",
    "\n",
    "## Shots\n",
    "```\n",
    "points = [(4, 5), (-0, 2), (4, 7), (1, -3), (3, -2), (4, 5),\n",
    "          (3, 2), (5, 7), (-5, 7), (2, 2), (-4, 5), (0, -2),\n",
    "          (-4, 7), (-1, 3), (-3, 2), (-4, -5), (-3, 2),\n",
    "          (5, 7), (5, 7), (2, 2), (9, 9), (-8, -9)]\n",
    "```\n",
    "\n",
    "## Tasks\n",
    "1. Robin Hood is famous for hitting an arrow with another arrow. Did you get it?\n",
    "2. Calculate how many arrows have fallen in each quadrant.\n",
    "3. Find the point closest to the center. Calculate its distance to the center. \n",
    "4. If the target has a radius of 9, calculate the number of arrows that must be picked up in the forest."
   ]
  },
  {
   "cell_type": "code",
   "execution_count": 1,
   "metadata": {},
   "outputs": [],
   "source": [
    "import numpy as np\n",
    "\n",
    "# Variables\n",
    "\n",
    "points = [(4, 5), (-0, 2), (4, 7), (1, -3), (3, -2), (4, 5),\n",
    "          (3, 2), (5, 7), (-5, 7), (2, 2), (-4, 5), (0, -2),\n",
    "          (-4, 7), (-1, 3), (-3, 2), (-4, -5), (-3, 2),\n",
    "          (5, 7), (5, 7), (2, 2), (9, 9), (-8, -9)]"
   ]
  },
  {
   "cell_type": "code",
   "execution_count": 2,
   "metadata": {},
   "outputs": [
    {
     "name": "stdout",
     "output_type": "stream",
     "text": [
      "Duplicated_Shots [(4, 5), (-3, 2), (5, 7), (2, 2)]\n"
     ]
    }
   ],
   "source": [
    "# Robin Hood is famous for hitting an arrow with another arrow. Did you get it?\n",
    "# Variables\n",
    "duplicated_points = []\n",
    "unique_points = []\n",
    "cont_q1,cont_q2,cont_q3,cont_q4 = 0,0,0,0\n",
    "bullseye = 0\n",
    "center = [(0, 0)]\n",
    "\n",
    "points = [(4, 5), (-0, 2), (4, 7), (1, -3), (3, -2), (4, 5),\n",
    "          (3, 2), (5, 7), (-5, 7), (2, 2), (-4, 5), (0, -2),\n",
    "          (-4, 7), (-1, 3), (-3, 2), (-4, -5), (-3, 2),\n",
    "          (5, 7), (5, 7), (2, 2), (9, 9), (-8, -9), (0,0)]\n",
    "\n",
    "\n",
    "#Robin Hood is famous for hitting an arrow with another arrow. Did you get it?\n",
    "for x in points:\n",
    "    if x not in unique_points:\n",
    "        unique_points.append(x)\n",
    "    else:\n",
    "        if x not in duplicated_points:\n",
    "            duplicated_points.append(x)\n",
    "\n",
    "print(\"Duplicated_Shots\",duplicated_points)\n"
   ]
  },
  {
   "cell_type": "code",
   "execution_count": 3,
   "metadata": {},
   "outputs": [
    {
     "name": "stdout",
     "output_type": "stream",
     "text": [
      "Bulsay ('Tiro al blanco' en ingles)\n",
      "Cuadrante 1: 6\n",
      "Cuadrante 2: 11\n",
      "Cuadrante 3: 2\n",
      "Cuadrante 4: 3\n",
      "Bullseye: 1\n"
     ]
    }
   ],
   "source": [
    "# Calculate how many arrows have fallen in each quadrant.\n",
    "for x,y in points:\n",
    "    if x == 0 and y == 0:\n",
    "        bullseye = bullseye + 1\n",
    "        print(\"Bulsay ('Tiro al blanco' en ingles)\")\n",
    "    elif x >= 0 and y > 0:\n",
    "        cont_q2 = cont_q2 + 1\n",
    "    elif x >= 0 and y < 0:\n",
    "        cont_q4 = cont_q4 + 1\n",
    "    elif x <= 0 and y < 0:\n",
    "        cont_q3 = cont_q3 + 1\n",
    "    elif x <= 0 and y > 0:\n",
    "        cont_q1 = cont_q1 + 1\n",
    "    else:\n",
    "        print(x,y)\n",
    "\n",
    "print(\"Cuadrante 1:\",cont_q1)\n",
    "print(\"Cuadrante 2:\",cont_q2)\n",
    "print(\"Cuadrante 3:\",cont_q3)\n",
    "print(\"Cuadrante 4:\",cont_q4)\n",
    "print(\"Bullseye:\",bullseye)\n",
    "\n"
   ]
  },
  {
   "cell_type": "code",
   "execution_count": 4,
   "metadata": {},
   "outputs": [
    {
     "name": "stdout",
     "output_type": "stream",
     "text": [
      "Coordenada: [ 3 -2] --Eucledian Distance:  3.605551275463989\n",
      "Coordenada: [4 5] --Eucledian Distance:  6.4031242374328485\n",
      "Coordenada: [4 5] --Eucledian Distance:  6.4031242374328485\n",
      "Coordenada: [4 7] --Eucledian Distance:  8.06225774829855\n",
      "Coordenada: [ 3 -2] --Eucledian Distance:  3.605551275463989\n",
      "Coordenada: [5 7] --Eucledian Distance:  8.602325267042627\n",
      "Coordenada: [0 2] --Eucledian Distance:  2.0\n",
      "Coordenada: [9 9] --Eucledian Distance:  12.727922061357855\n",
      "Coordenada: [ 1 -3] --Eucledian Distance:  3.1622776601683795\n",
      "Coordenada: [-8 -9] --Eucledian Distance:  12.041594578792296\n",
      "Coordenada: [ 3 -2] --Eucledian Distance:  3.605551275463989\n",
      "Coordenada: [4 5] --Eucledian Distance:  6.4031242374328485\n",
      "Coordenada: [ 1 -3] --Eucledian Distance:  3.1622776601683795\n",
      "Coordenada: [4 7] --Eucledian Distance:  8.06225774829855\n",
      "Coordenada: [4 5] --Eucledian Distance:  6.4031242374328485\n",
      "Coordenada: [5 7] --Eucledian Distance:  8.602325267042627\n",
      "Coordenada: [5 7] --Eucledian Distance:  8.602325267042627\n",
      "Coordenada: [5 7] --Eucledian Distance:  8.602325267042627\n",
      "Coordenada: [4 7] --Eucledian Distance:  8.06225774829855\n",
      "Coordenada: [4 7] --Eucledian Distance:  8.06225774829855\n",
      "Coordenada: [2 2] --Eucledian Distance:  2.8284271247461903\n",
      "Coordenada: [4 5] --Eucledian Distance:  6.4031242374328485\n",
      "Coordenada: [4 5] --Eucledian Distance:  6.4031242374328485\n",
      "Coordenada: [-8 -9] --Eucledian Distance:  12.041594578792296\n",
      "Coordenada: [2 2] --Eucledian Distance:  2.8284271247461903\n",
      "Coordenada: [5 7] --Eucledian Distance:  8.602325267042627\n",
      "Coordenada: [0 0] --Eucledian Distance:  0.0\n",
      "Coordenada: [ 1 -3] --Eucledian Distance:  3.1622776601683795\n",
      "Coordenada: [9 9] --Eucledian Distance:  12.727922061357855\n",
      "Coordenada: [4 7] --Eucledian Distance:  8.06225774829855\n",
      "Coordenada: [2 2] --Eucledian Distance:  2.8284271247461903\n",
      "Coordenada: [5 7] --Eucledian Distance:  8.602325267042627\n",
      "Coordenada: [9 9] --Eucledian Distance:  12.727922061357855\n",
      "Coordenada: [4 7] --Eucledian Distance:  8.06225774829855\n",
      "Coordenada: [4 5] --Eucledian Distance:  6.4031242374328485\n",
      "Coordenada: [5 7] --Eucledian Distance:  8.602325267042627\n",
      "Coordenada: [4 5] --Eucledian Distance:  6.4031242374328485\n",
      "Coordenada: [5 7] --Eucledian Distance:  8.602325267042627\n",
      "Coordenada: [4 7] --Eucledian Distance:  8.06225774829855\n",
      "Coordenada: [4 7] --Eucledian Distance:  8.06225774829855\n",
      "Coordenada: [2 2] --Eucledian Distance:  2.8284271247461903\n",
      "Coordenada: [2 2] --Eucledian Distance:  2.8284271247461903\n",
      "Coordenada: [-4 -5] --Eucledian Distance:  6.4031242374328485\n",
      "Coordenada: [-3  2] --Eucledian Distance:  3.605551275463989\n",
      "Coordenada: [4 5] --Eucledian Distance:  6.4031242374328485\n",
      "Coordenada: [4 5] --Eucledian Distance:  6.4031242374328485\n",
      "{3.605551275463989: array([-3,  2]), 6.4031242374328485: array([4, 5]), 8.06225774829855: array([4, 7]), 8.602325267042627: array([5, 7]), 2.0: array([0, 2]), 12.727922061357855: array([9, 9]), 3.1622776601683795: array([ 1, -3]), 12.041594578792296: array([-8, -9]), 2.8284271247461903: array([2, 2]), 0.0: array([0, 0])}\n",
      "Distancia Euclediana mas corta:  0.0\n",
      "Flechas fuera del target 5\n"
     ]
    }
   ],
   "source": [
    "# 3. Find the point closest to the center. Calculate its distance to the center\n",
    "# Defining a function that calculates the distance to the center can help.\n",
    "a = np.array(points)\n",
    "b = np.array(center)\n",
    "arr = []\n",
    "arr2 = []\n",
    "flechas_cont = 0\n",
    "\n",
    "for x in np.nditer(a):\n",
    "    dist = np.linalg.norm(a[x]-b)\n",
    "    arr.append(dist)\n",
    "    arr2.append(a[x])\n",
    "    arre = dict(zip(arr,arr2))\n",
    "    print(\"Coordenada:\",a[x], \"--Eucledian Distance: \", dist)\n",
    "    if dist > 9:\n",
    "        flechas_cont = flechas_cont+1\n",
    "\n",
    "print(arre)\n",
    "print(\"Distancia Euclediana mas corta: \",min(arre))\n",
    "print(\"Flechas fuera del target\",flechas_cont)\n"
   ]
  },
  {
   "cell_type": "code",
   "execution_count": 5,
   "metadata": {},
   "outputs": [
    {
     "name": "stdout",
     "output_type": "stream",
     "text": [
      "Flechas fuera del target 5\n"
     ]
    }
   ],
   "source": [
    "# 4. If the target has a radius of 9, calculate the number of arrows that \n",
    "# must be picked up in the forest.\n",
    "\n",
    "##EN PYCHARM SI IMPRIME SOLO 3. Aquí no se que pasa :(\n",
    "print(\"Flechas fuera del target\",flechas_cont)\n",
    "\n"
   ]
  },
  {
   "cell_type": "code",
   "execution_count": null,
   "metadata": {},
   "outputs": [],
   "source": []
  }
 ],
 "metadata": {
  "kernelspec": {
   "display_name": "Python 3",
   "language": "python",
   "name": "python3"
  },
  "language_info": {
   "codemirror_mode": {
    "name": "ipython",
    "version": 3
   },
   "file_extension": ".py",
   "mimetype": "text/x-python",
   "name": "python",
   "nbconvert_exporter": "python",
   "pygments_lexer": "ipython3",
   "version": "3.7.3"
  }
 },
 "nbformat": 4,
 "nbformat_minor": 2
}
