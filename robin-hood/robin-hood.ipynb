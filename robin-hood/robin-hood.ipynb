{
 "cells": [
  {
   "cell_type": "markdown",
   "metadata": {},
   "source": [
    "# Robin Hood:\n",
    "We are in a competition to win the archery contest in Sherwood. With our bow and arrows we shoot on a target and try to hit as close as possible to the center.\n",
    "\n",
    "The center of the target is represented by the values (0, 0) on the coordinate axes.\n",
    "\n",
    "![](images/arrows.jpg)\n",
    "\n",
    "## Goals:\n",
    "* data structures: lists, sets, tuples\n",
    "* logical operators: if-elif-else\n",
    "* loop: while/for\n",
    "* minimum (optional sorting)\n",
    "\n",
    "## Description:\n",
    "In the 2-dimensional space, a point can be defined by a pair of values that correspond to the horizontal coordinate (x) and the vertical coordinate (y). The space can be divided into 4 zones (quadrants): Q1, Q2, Q3, Q4. Whose single point of union is the point (0, 0).\n",
    "\n",
    "If a point is in Q1 both its x coordinate and the y are positive. I leave a link to wikipedia to familiarize yourself with these quadrants.\n",
    "\n",
    "https://en.wikipedia.org/wiki/Cartesian_coordinate_system\n",
    "\n",
    "https://en.wikipedia.org/wiki/Euclidean_distance\n",
    "\n",
    "## Shots\n",
    "```\n",
    "points = [(4, 5), (-0, 2), (4, 7), (1, -3), (3, -2), (4, 5),\n",
    "          (3, 2), (5, 7), (-5, 7), (2, 2), (-4, 5), (0, -2),\n",
    "          (-4, 7), (-1, 3), (-3, 2), (-4, -5), (-3, 2),\n",
    "          (5, 7), (5, 7), (2, 2), (9, 9), (-8, -9)]\n",
    "```\n",
    "\n",
    "## Tasks\n",
    "1. Robin Hood is famous for hitting an arrow with another arrow. Did you get it?\n",
    "2. Calculate how many arrows have fallen in each quadrant.\n",
    "3. Find the point closest to the center. Calculate its distance to the center. \n",
    "4. If the target has a radius of 9, calculate the number of arrows that must be picked up in the forest."
   ]
  },
  {
   "cell_type": "code",
   "execution_count": 1,
   "metadata": {},
   "outputs": [],
   "source": [
    "# Variables\n",
    "\n",
    "points = [(4, 5), (-0, 2), (4, 7), (1, -3), (3, -2), (4, 5),\n",
    "          (3, 2), (5, 7), (-5, 7), (2, 2), (-4, 5), (0, -2),\n",
    "          (-4, 7), (-1, 3), (-3, 2), (-4, -5), (-3, 2),\n",
    "          (5, 7), (5, 7), (2, 2), (9, 9), (-8, -9)]"
   ]
  },
  {
   "cell_type": "code",
   "execution_count": null,
   "metadata": {},
   "outputs": [],
   "source": []
  },
  {
   "cell_type": "code",
   "execution_count": 2,
   "metadata": {},
   "outputs": [
    {
     "name": "stdout",
     "output_type": "stream",
     "text": [
      "Hay 5 golpes flecha - flecha, o 29.41% del total de tiros.\n"
     ]
    },
    {
     "data": {
      "text/plain": [
       "'Es Robin Hood quien tira probablemente'"
      ]
     },
     "execution_count": 2,
     "metadata": {},
     "output_type": "execute_result"
    }
   ],
   "source": [
    "# 1. Robin Hood is famous for hitting an arrow with another arrow. Did you get it?\n",
    "\n",
    "def robin_hood_hits(points):\n",
    "    lst , arrow_hit_count = [], 0 \n",
    "    \n",
    "    for pt in points:\n",
    "        if pt in lst: arrow_hit_count += 1\n",
    "        else: lst.append(pt)\n",
    "    \n",
    "    arrow_hit_count_percentage =  round(arrow_hit_count/len(lst)*100,2)\n",
    "    \n",
    "    print(\"Hay {} golpes flecha - flecha, o {}% del total de tiros.\".format(arrow_hit_count,\n",
    "                                                                        arrow_hit_count_percentage))\n",
    "    if arrow_hit_count > 0: return \"Es Robin Hood quien tira probablemente\"\n",
    "    else: return \"No es Robin Hood quien tira\"\n",
    "        \n",
    "        \n",
    "\n",
    "\n",
    "robin_hood_hits(points)"
   ]
  },
  {
   "cell_type": "code",
   "execution_count": 3,
   "metadata": {},
   "outputs": [
    {
     "name": "stdout",
     "output_type": "stream",
     "text": [
      "\n",
      "    Flechas en Q1: 10 \n",
      "\n",
      "    Flechas en Q2: 6 \n",
      "\n",
      "    Flechas en Q3: 2 \n",
      "\n",
      "    Flechas en Q4: 4 \n",
      " \n"
     ]
    }
   ],
   "source": [
    "# 2. Calculate how many arrows have fallen in each quadrant.\n",
    "\n",
    "def calcular_Qs(points):\n",
    "    Q1,Q2,Q3,Q4 = 0, 0, 0 ,0\n",
    "    \n",
    "    for pt in points:\n",
    "        if pt[0] > 0 and pt[1] > 0: Q1+=1\n",
    "        elif pt[0] < 0 and pt[1] > 0: Q2+=1\n",
    "        elif pt[0] < 0 and pt[1] < 0: Q3+=1\n",
    "        else: Q4+=1\n",
    "    \n",
    "    print(\"\"\"\n",
    "    Flechas en Q1: {} \\n\n",
    "    Flechas en Q2: {} \\n\n",
    "    Flechas en Q3: {} \\n\n",
    "    Flechas en Q4: {} \\n \"\"\".format(Q1, Q2, Q3, Q4))\n",
    "    \n",
    "\n",
    "calcular_Qs(points)"
   ]
  },
  {
   "cell_type": "code",
   "execution_count": 4,
   "metadata": {},
   "outputs": [
    {
     "name": "stdout",
     "output_type": "stream",
     "text": [
      "Hay 2 puntos mas cercanos al centro (igual distancia) y son los tiros No.[2, 12]\n"
     ]
    }
   ],
   "source": [
    "# 3. Find the point closest to the center. Calculate its distance to the center\n",
    "# Defining a function that calculates the distance to the center can help.\n",
    "\n",
    "def closest_shot_to_center(points):\n",
    "    import math as m\n",
    "    distances_list = [round(m.sqrt((pt[0]**2) + (pt[1]**2)),4) for pt in points]\n",
    "    minima = min(distances_list)\n",
    "    num_de_tiro = [i+1 for i, x in enumerate(distances_list) if x == minima]\n",
    "    print(\"Hay {} puntos mas cercanos al centro (igual distancia) y son los tiros No.{}\".format(len(num_de_tiro),\n",
    "                                                                                                 num_de_tiro))\n",
    "    \n",
    "closest_shot_to_center(points)"
   ]
  },
  {
   "cell_type": "code",
   "execution_count": 6,
   "metadata": {},
   "outputs": [],
   "source": [
    "# 4. If the target has a radius of 9, calculate the number of arrows that \n",
    "# must be picked up in the forest.\n",
    "\n",
    "def arrows_to_pick(points):\n",
    "    import math as m\n",
    "    distances_list = [round(m.sqrt((pt[0]**2) + (pt[1]**2)),4) for pt in points]    \n",
    "    arrows_to_pick = len([d for d in distances_list if d > 9.0])              \n",
    "    return \"Hay {} flechas que ir a buscar al bosque.\". format(arrows_to_pick)"
   ]
  },
  {
   "cell_type": "code",
   "execution_count": 7,
   "metadata": {},
   "outputs": [
    {
     "data": {
      "text/plain": [
       "'Hay 2 flechas que ir a buscar al bosque.'"
      ]
     },
     "execution_count": 7,
     "metadata": {},
     "output_type": "execute_result"
    }
   ],
   "source": [
    "arrows_to_pick(points)"
   ]
  }
 ],
 "metadata": {
  "kernelspec": {
   "display_name": "Python 3",
   "language": "python",
   "name": "python3"
  },
  "language_info": {
   "codemirror_mode": {
    "name": "ipython",
    "version": 3
   },
   "file_extension": ".py",
   "mimetype": "text/x-python",
   "name": "python",
   "nbconvert_exporter": "python",
   "pygments_lexer": "ipython3",
   "version": "3.7.3"
  }
 },
 "nbformat": 4,
 "nbformat_minor": 2
}
