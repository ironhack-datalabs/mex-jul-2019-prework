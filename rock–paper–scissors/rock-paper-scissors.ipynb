{
 "cells": [
  {
   "cell_type": "code",
   "execution_count": 17,
   "metadata": {},
   "outputs": [],
   "source": [
    "# Import the choice function of the random module\n",
    "# https://stackoverflow.com/questions/306400/how-to-randomly-select-an-item-from-a-list\n",
    "\n",
    "# Assign to a list the 3 possible options: 'stone', 'paper' or 'scissors'.\n",
    "\n",
    "# Assign a variable to the maximum number of games: 1, 3, 5, etc ...\n",
    "\n",
    "# Assign a variable to the number of games a player must win to win.\n",
    "# Preferably the value will be based on the number of maximum games\n",
    "\n",
    "# Define a function that randomly returns one of the 3 options.\n",
    "# This will correspond to the play of the machine. Totally random.\n",
    "\n",
    "\n",
    "# Define a function that asks your choice: 'stone', 'paper' or 'scissors'\n",
    "# you should only allow one of the 3 options. This is defensive programming.\n",
    "# If it is not stone, paper or scissors keep asking until it is.\n",
    "\n",
    "\n",
    "# Define a function that resolves a combat.\n",
    "# Returns 0 if there is a tie, 1 if the machine wins, 2 if the human player wins\n",
    "\n",
    "    \n",
    "# Define a function that shows the choice of each player and the state of the game\n",
    "# This function should be used every time accumulated points are updated\n",
    "\n",
    "    \n",
    "# Create two variables that accumulate the wins of each participant\n",
    "\n",
    "\n",
    "# Create a loop that iterates while no player reaches the minimum of wins\n",
    "# necessary to win. Inside the loop solves the play of the\n",
    "# machine and ask the player's. Compare them and update the value of the variables\n",
    "# that accumulate the wins of each participant.\n",
    "\n",
    "# Print by console the winner of the game based on who has more accumulated wins"
   ]
  },
  {
   "cell_type": "code",
   "execution_count": 18,
   "metadata": {},
   "outputs": [],
   "source": [
    "import random"
   ]
  },
  {
   "cell_type": "code",
   "execution_count": 19,
   "metadata": {},
   "outputs": [],
   "source": [
    "def eleccion_maquina(opciones):\n",
    "    return random.choice(opciones)"
   ]
  },
  {
   "cell_type": "code",
   "execution_count": 20,
   "metadata": {},
   "outputs": [],
   "source": [
    "def eleccion_jugador(opciones):\n",
    "    while True:\n",
    "        eleccion = input('¿Piedra, papel o tijera?: ').lower()\n",
    "        if eleccion in opciones:\n",
    "            break\n",
    "        else: \n",
    "            print('Revisa que tu respuesta este escrita correctamente, vuelve a intentar. \\n')\n",
    "            continue\n",
    "    return eleccion"
   ]
  },
  {
   "cell_type": "code",
   "execution_count": 21,
   "metadata": {},
   "outputs": [],
   "source": [
    "def obtener_ganador(e_maquina,e_jugador):\n",
    "    if e_maquina == e_jugador: return 0\n",
    "    if e_maquina == 'piedra' and e_jugador == 'tijera': return 1\n",
    "    if e_maquina == 'piedra' and e_jugador == 'papel': return 2\n",
    "    if e_maquina == 'papel' and e_jugador == 'piedra': return 1\n",
    "    if e_maquina == 'papel' and e_jugador == 'tijera': return 2\n",
    "    if e_maquina == 'tijera' and e_jugador == 'papel': return 1\n",
    "    if e_maquina == 'tijera' and e_jugador == 'piedra': return 2"
   ]
  },
  {
   "cell_type": "code",
   "execution_count": 22,
   "metadata": {},
   "outputs": [],
   "source": [
    "def marcador(v_maquina,v_jugador,empates,e_maquina,e_jugador):\n",
    "    print('\\nJugada de la máquina: ', e_maquina)\n",
    "    print('Jugada del jugador: ', e_jugador)\n",
    "    print('Victorias de la máquina: ', v_maquina)\n",
    "    print('Victorias del jugador: ', v_jugador)\n",
    "    print('Empates: ', empates)\n",
    "    print('\\n')"
   ]
  },
  {
   "cell_type": "code",
   "execution_count": 23,
   "metadata": {},
   "outputs": [],
   "source": [
    "def jugar(r_ganadoras, max_r):\n",
    "    v_maquina, v_jugador, empates, r = 0,0,0,0\n",
    "    opciones = ['piedra','papel','tijera']\n",
    "    while True:\n",
    "        r += 1\n",
    "        e_maquina = eleccion_maquina(opciones)\n",
    "        e_jugador = eleccion_jugador(opciones)\n",
    "        ganador = obtener_ganador(e_maquina,e_jugador)\n",
    "        if ganador == 0: empates += 1\n",
    "        if ganador == 1: v_maquina += 1\n",
    "        if ganador == 2: v_jugador += 1\n",
    "        marcador(v_maquina,v_jugador,empates,e_maquina,e_jugador)\n",
    "        if v_maquina == r_ganadoras or v_jugador == r_ganadoras: break\n",
    "        if r == max_r: break\n",
    "    if v_maquina > v_jugador: print('Ganador: la máquina')\n",
    "    elif v_maquina == v_jugador: print('Empate')\n",
    "    else: print('Ganador: el jugador')"
   ]
  },
  {
   "cell_type": "code",
   "execution_count": 24,
   "metadata": {},
   "outputs": [
    {
     "name": "stdout",
     "output_type": "stream",
     "text": [
      "¿Piedra, papel o tijera?: adada\n",
      "Revisa que tu respuesta este escrita correctamente, vuelve a intentar. \n",
      "\n",
      "¿Piedra, papel o tijera?: piedra\n",
      "\n",
      "Jugada de la máquina:  piedra\n",
      "Jugada del jugador:  piedra\n",
      "Victorias de la máquina:  0\n",
      "Victorias del jugador:  0\n",
      "Empates:  1\n",
      "\n",
      "\n",
      "¿Piedra, papel o tijera?: papel\n",
      "\n",
      "Jugada de la máquina:  piedra\n",
      "Jugada del jugador:  papel\n",
      "Victorias de la máquina:  0\n",
      "Victorias del jugador:  1\n",
      "Empates:  1\n",
      "\n",
      "\n",
      "¿Piedra, papel o tijera?: tijera\n",
      "\n",
      "Jugada de la máquina:  tijera\n",
      "Jugada del jugador:  tijera\n",
      "Victorias de la máquina:  0\n",
      "Victorias del jugador:  1\n",
      "Empates:  2\n",
      "\n",
      "\n",
      "¿Piedra, papel o tijera?: papel\n",
      "\n",
      "Jugada de la máquina:  tijera\n",
      "Jugada del jugador:  papel\n",
      "Victorias de la máquina:  1\n",
      "Victorias del jugador:  1\n",
      "Empates:  2\n",
      "\n",
      "\n",
      "¿Piedra, papel o tijera?: piedra\n",
      "\n",
      "Jugada de la máquina:  papel\n",
      "Jugada del jugador:  piedra\n",
      "Victorias de la máquina:  2\n",
      "Victorias del jugador:  1\n",
      "Empates:  2\n",
      "\n",
      "\n",
      "¿Piedra, papel o tijera?: piedra\n",
      "\n",
      "Jugada de la máquina:  tijera\n",
      "Jugada del jugador:  piedra\n",
      "Victorias de la máquina:  2\n",
      "Victorias del jugador:  2\n",
      "Empates:  2\n",
      "\n",
      "\n",
      "¿Piedra, papel o tijera?: papel\n",
      "\n",
      "Jugada de la máquina:  piedra\n",
      "Jugada del jugador:  papel\n",
      "Victorias de la máquina:  2\n",
      "Victorias del jugador:  3\n",
      "Empates:  2\n",
      "\n",
      "\n",
      "Ganador: el jugador\n"
     ]
    }
   ],
   "source": [
    "max_rondas = 10\n",
    "rondas_p_ganar = 3\n",
    "jugar(rondas_p_ganar,max_rondas)"
   ]
  },
  {
   "cell_type": "code",
   "execution_count": null,
   "metadata": {},
   "outputs": [],
   "source": []
  }
 ],
 "metadata": {
  "kernelspec": {
   "display_name": "Python 3",
   "language": "python",
   "name": "python3"
  },
  "language_info": {
   "codemirror_mode": {
    "name": "ipython",
    "version": 3
   },
   "file_extension": ".py",
   "mimetype": "text/x-python",
   "name": "python",
   "nbconvert_exporter": "python",
   "pygments_lexer": "ipython3",
   "version": "3.7.3"
  }
 },
 "nbformat": 4,
 "nbformat_minor": 2
}
