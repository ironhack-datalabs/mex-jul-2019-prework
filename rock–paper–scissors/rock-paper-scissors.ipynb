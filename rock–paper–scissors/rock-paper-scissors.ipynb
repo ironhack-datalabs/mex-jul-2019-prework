{
 "cells": [
  {
   "cell_type": "code",
   "execution_count": 1,
   "metadata": {},
   "outputs": [
    {
     "ename": "SyntaxError",
     "evalue": "invalid syntax (<ipython-input-1-31b74da48611>, line 20)",
     "output_type": "error",
     "traceback": [
      "\u001b[1;36m  File \u001b[1;32m\"<ipython-input-1-31b74da48611>\"\u001b[1;36m, line \u001b[1;32m20\u001b[0m\n\u001b[1;33m    if (machine = \"stone\" and human = \"paper\"):\u001b[0m\n\u001b[1;37m                ^\u001b[0m\n\u001b[1;31mSyntaxError\u001b[0m\u001b[1;31m:\u001b[0m invalid syntax\n"
     ]
    }
   ],
   "source": [
    "import random\n",
    "\n",
    "game = [\"stone\", \"paper\", \"scissors\"]\n",
    "\n",
    "maximum_games = 25\n",
    "must_games_won = 18\n",
    "\n",
    "print(random.choice(game))\n",
    "\n",
    "user_input = input(\"Input: \")\n",
    "while (user_input != \"stone\") or (user_input != \"paper\") or (user_input != \"scissors\"):\n",
    "    user_input = input(\"Input: \")\n",
    "\n",
    "machine = [random.choice(game)]\n",
    "human = [user_input]\n",
    "machine_wins = []\n",
    "human_wins = []\n",
    "\n",
    "for i in ():\n",
    "    if (machine = \"stone\" and human = \"paper\"):\n",
    "        machine_wins.append(0)\n",
    "        human_wins.append(1)\n",
    "    elif (machine = \"stone\" and human = \"scissors\"):\n",
    "        machine_wins.append(1)\n",
    "        human_wins.append(0)\n",
    "    elif (machine = \"paper\" and human = \"scissors\"):\n",
    "        machine_wins.append(0)\n",
    "        human_wins.append(1)\n",
    "    elif (machine = \"paper\" and human = \"stone\"):\n",
    "        machine_wins.append(1)\n",
    "        human_wins.append(0)\n",
    "    elif (machine = \"scissors\" and human = \"stone\"):\n",
    "        machine_wins.append(0)\n",
    "        human_wins.append(1)\n",
    "    else:\n",
    "        machine_wins.append(1)\n",
    "        human_wins.append(0)\n",
    "\n",
    "if (sum(machine_wins) > sum(human_wins)):\n",
    "  print (\"Machine wins\")\n",
    "elif (sum(machine_wins) < sum(human_wins)):\n",
    "  print (\"Human wins\")\n",
    "else:\n",
    "  print (\"Tie\")\n"
   ]
  },
  {
   "cell_type": "code",
   "execution_count": null,
   "metadata": {},
   "outputs": [],
   "source": []
  }
 ],
 "metadata": {
  "kernelspec": {
   "display_name": "Python 3",
   "language": "python",
   "name": "python3"
  },
  "language_info": {
   "codemirror_mode": {
    "name": "ipython",
    "version": 3
   },
   "file_extension": ".py",
   "mimetype": "text/x-python",
   "name": "python",
   "nbconvert_exporter": "python",
   "pygments_lexer": "ipython3",
   "version": "3.7.4"
  }
 },
 "nbformat": 4,
 "nbformat_minor": 2
}
