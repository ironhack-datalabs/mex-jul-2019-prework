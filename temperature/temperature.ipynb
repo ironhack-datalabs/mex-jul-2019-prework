{
 "cells": [
  {
   "cell_type": "markdown",
   "metadata": {},
   "source": [
    "# Processor temperature\n",
    "\n",
    "We have a temperature sensor in the processor of our company's server. We want to analyze the data provided to determinate whether we should change the cooling system for a better one. It is expensive and as a data analyst we cannot make decisions without a basis.\n",
    "\n",
    "We provide the temperatures measured throughout the 24 hours of a day in a list-type data structure composed of 24 integers:\n",
    "```\n",
    "temperatures_C = [33,66,65,0,59,60,62,64,70,76,80,69,80,83,68,79,61,53,50,49,53,48,45,39]\n",
    "```\n",
    "\n",
    "## Goals\n",
    "\n",
    "1. Treatment of lists\n",
    "2. Use of loop or list comprenhention\n",
    "3. Calculation of the mean, minimum and maximum.\n",
    "4. Filtering of lists.\n",
    "5. Interpolate an outlier.\n",
    "6. Logical operators.\n",
    "7. Print"
   ]
  },
  {
   "cell_type": "markdown",
   "metadata": {},
   "source": [
    "## Temperature graph\n",
    "To facilitate understanding, the temperature graph is shown below. You do not have to do anything in this section. The test starts in **Problem**."
   ]
  },
  {
   "cell_type": "code",
   "execution_count": 3,
   "metadata": {},
   "outputs": [
    {
     "data": {
      "text/plain": [
       "Text(0.5, 1.0, 'Temperatures of our server throughout the day')"
      ]
     },
     "execution_count": 3,
     "metadata": {},
     "output_type": "execute_result"
    },
    {
     "data": {
      "image/png": "[encoded data removed]",
      "text/plain": [
       "<Figure size 432x288 with 1 Axes>"
      ]
     },
     "metadata": {
      "needs_background": "light"
     },
     "output_type": "display_data"
    }
   ],
   "source": [
    "# import\n",
    "import matplotlib.pyplot as plt\n",
    "%matplotlib inline\n",
    "\n",
    "# axis x, axis y\n",
    "y = [33,66,65,0,59,60,62,64,70,76,80,81,80,83,90,79,61,53,50,49,53,48,45,39]\n",
    "x = list(range(len(y)))\n",
    "\n",
    "# plot\n",
    "plt.plot(x, y)\n",
    "plt.axhline(y=70, linewidth=1, color='r')\n",
    "plt.xlabel('hours')\n",
    "plt.ylabel('Temperature ºC')\n",
    "plt.title('Temperatures of our server throughout the day')"
   ]
  },
  {
   "cell_type": "markdown",
   "metadata": {},
   "source": [
    "## Problem\n",
    "\n",
    "If the sensor detects more than 4 hours with temperatures greater than or equal to 70ºC or any temperature above 80ºC or the average exceeds 65ºC throughout the day, we must give the order to change the cooling system to avoid damaging the processor.\n",
    "\n",
    "We will guide you step by step so you can make the decision by calculating some intermediate steps:\n",
    "\n",
    "1. Minimum temperature\n",
    "2. Maximum temperature\n",
    "3. Temperatures equal to or greater than 70ºC\n",
    "4. Average temperatures throughout the day.\n",
    "5. If there was a sensor failure at 03:00 and we did not capture the data, how would you estimate the value that we lack? Correct that value in the list of temperatures.\n",
    "6. Bonus: Our maintenance staff is from the United States and does not understand the international metric system. Pass temperatures to Degrees Fahrenheit.\n",
    "\n",
    "Formula: F = 1.8 * C + 32\n",
    "\n",
    "web: https://en.wikipedia.org/wiki/Conversion_of_units_of_temperature\n"
   ]
  },
  {
   "cell_type": "code",
   "execution_count": 30,
   "metadata": {},
   "outputs": [
    {
     "name": "stdout",
     "output_type": "stream",
     "text": [
      "Temperatura minima 0ºC\n",
      "\n",
      "Temperatur maxima 90ºC\n",
      "\n",
      "Temperaturas arriba de los 70ºC =  [76, 80, 81, 80, 83, 90, 79]\n",
      "\n",
      "Temperatura promedio durante el dia: 60.25ºC\n",
      "\n",
      "Lista calculando valor faltante opcion 1 =  [33, 66, 65, 60.25, 59, 60, 62, 64, 70, 76, 80, 81, 80, 83, 90, 79, 61, 53, 50, 49, 53, 48, 45, 39]\n",
      "\n",
      "Lista calculando valor faltante opcion 2 =  [33, 66, 65, 59.03, 59, 60, 62, 64, 70, 76, 80, 81, 80, 83, 90, 79, 61, 53, 50, 49, 53, 48, 45, 39]\n",
      "\n",
      "Lista de Celsius a Farenheit =  [91.4, 150.8, 149.0, 32.0, 138.2, 140.0, 143.6, 147.2, 158.0, 168.8, 176.0, 177.8, 176.0, 181.4, 194.0, 174.2, 141.8, 127.4, 122.0, 120.2, 127.4, 118.4, 113.0, 102.2]\n"
     ]
    }
   ],
   "source": [
    "# assign a variable to the list of temperatures\n",
    "list_of_temps = [33,66,65,0,59,60,62,64,70,76,80,81,80,83,90,79,61,53,50,49,53,48,45,39]\n",
    "\n",
    "# 1. Calculate the minimum of the list and print the value using print()\n",
    "\n",
    "print(\"Temperatura minima {}ºC\".format(min(list_of_temps)))\n",
    "\n",
    "# 2. Calculate the maximum of the list and print the value using print()\n",
    "\n",
    "print(\"\\nTemperatur maxima {}ºC\".format(max(list_of_temps)))\n",
    "\n",
    "# 3. Items in the list that are greater than 70ºC and print the result\n",
    "print(\"\\nTemperaturas arriba de los 70ºC = \",[t for t in list_of_temps if t > 70])\n",
    "\n",
    "# 4. Calculate the mean temperature throughout the day and print the result\n",
    "print(\"\\nTemperatura promedio durante el dia: {}ºC\".format(sum(list_of_temps)/len(list_of_temps)))\n",
    "\n",
    "# 5.1 Solve the fault in the sensor by estimating a value\n",
    "\n",
    "#ESTIMAR VALOR FALTANTE OPCION 1:\n",
    "without_faults1 = [sum(list_of_temps)/len(list_of_temps) if t == 0 else t for t in list_of_temps]\n",
    "\n",
    "print(\"\\nLista calculando valor faltante opcion 1 = \",without_faults1)\n",
    "\n",
    "#ESTIMAR VALOR FALTANTE OPCION 2:\n",
    "\n",
    "without_faults2 = []\n",
    "\n",
    "for t in list_of_temps:\n",
    "    if t == 0:\n",
    "        i = list_of_temps.index(t)\n",
    "        n1 = i - 1\n",
    "        n2 = i + 1\n",
    "        without_faults2.append(round(2/list_of_temps[n1] + list_of_temps[n2],2))\n",
    "    else:\n",
    "         without_faults2.append(t)\n",
    "print(\"\\nLista calculando valor faltante opcion 2 = \",without_faults2)\n",
    "        \n",
    "\n",
    "# 5.2 Update of the estimated value at 03:00 on the list\n",
    "\n",
    "\n",
    "# Bonus: convert the list of ºC to ºFarenheit\n",
    "#F = 1.8 * C + 32\n",
    "\n",
    "F = [round(1.8*t+32,2) for t in list_of_temps]\n",
    "\n",
    "print(\"\\nLista de Celsius a Farenheit = \",F)"
   ]
  },
  {
   "cell_type": "code",
   "execution_count": null,
   "metadata": {},
   "outputs": [],
   "source": []
  },
  {
   "cell_type": "markdown",
   "metadata": {},
   "source": [
    "## Take the decision\n",
    "Remember that if the sensor detects more than 4 hours with temperatures greater than or equal to 70ºC or any temperature higher than 80ºC or the average was higher than 65ºC throughout the day, we must give the order to change the cooling system to avoid the danger of damaging the equipment:\n",
    "* more than 4 hours with temperatures greater than or equal to 70ºC\n",
    "* some temperature higher than 80ºC\n",
    "* average was higher than 65ºC throughout the day\n",
    "If any of these three is met, the cooling system must be changed.\n"
   ]
  },
  {
   "cell_type": "code",
   "execution_count": 20,
   "metadata": {},
   "outputs": [
    {
     "name": "stdout",
     "output_type": "stream",
     "text": [
      "True More than 4 hours with temperatures greater than or equal to 70ºC\n"
     ]
    }
   ],
   "source": [
    "# Print True or False depending on whether you would change the cooling system or not\n",
    "list_of_temps = [33,66,65,0,59,60,62,64,70,76,80,81,80,83,90,79,61,53,50,49,53,48,45,39]\n",
    "\n",
    "def change_cooling_system(temperatures):\n",
    "    morethan4hours = 0\n",
    "    for t in temperatures:\n",
    "        if t >= 70: \n",
    "            morethan4hours+=1\n",
    "            if morethan4hours == 4: \n",
    "                print(True,\"More than 4 hours with temperatures greater than or equal to 70ºC\")\n",
    "                break\n",
    "        else: morethan4hours = 0\n",
    "            \n",
    "        if t > 80: \n",
    "            print(True,\"some temperature higher than 80ºC\")\n",
    "            break\n",
    "        if sum(temperatures)/len(temperatures) > 65: \n",
    "            print(True, \"Average was higher than 65ºC throughout the day If any of these three is met, the cooling system must be changed.\")\n",
    "            break\n",
    "            \n",
    "change_cooling_system(list_of_temps)"
   ]
  },
  {
   "cell_type": "markdown",
   "metadata": {},
   "source": [
    "## Future improvements\n",
    "1. We want the hours (not the temperatures) whose temperature exceeds 70ºC\n",
    "2. Condition that those hours are more than 4 consecutive and consecutive, not simply the sum of the whole set. Is this condition met?\n",
    "3. Average of each of the lists (ºC and ºF). How they relate?\n",
    "4. Standard deviation of each of the lists. How they relate?\n"
   ]
  },
  {
   "cell_type": "code",
   "execution_count": 24,
   "metadata": {},
   "outputs": [
    {
     "data": {
      "text/plain": [
       "[9, 10, 11, 10, 13, 14, 15]"
      ]
     },
     "execution_count": 24,
     "metadata": {},
     "output_type": "execute_result"
    }
   ],
   "source": [
    "# 1. We want the hours (not the temperatures) whose temperature exceeds 70ºC\n",
    "list_of_temps = [33,66,65,0,59,60,62,64,70,76,80,81,80,83,90,79,61,53,50,49,53,48,45,39]\n",
    "\n",
    "hours_plus_than_70 = [list_of_temps.index(t) for t in list_of_temps if t > 70]\n",
    "\n",
    "hours_plus_than_70"
   ]
  },
  {
   "cell_type": "code",
   "execution_count": 5,
   "metadata": {},
   "outputs": [],
   "source": [
    "# 2. Condition that those hours are more than 4 consecutive and consecutive, \n",
    "# not simply the sum of the whole set. Is this condition met?\n",
    "\n"
   ]
  },
  {
   "cell_type": "code",
   "execution_count": 75,
   "metadata": {},
   "outputs": [
    {
     "name": "stdout",
     "output_type": "stream",
     "text": [
      "Promedio de lista en Celsius es 60.25\n",
      "Promedio de lista en Farenheit es 140.45\n"
     ]
    }
   ],
   "source": [
    "# 3. Average of each of the lists (ºC and ºF). How they relate?\n",
    "C = [33,66,65,0,59,60,62,64,70,76,80,81,80,83,90,79,61,53,50,49,53,48,45,39]\n",
    "F = [91.4, 150.8, 149.0, 32.0, 138.2, 140.0, 143.6, 147.2, 158.0, 168.8, 176.0, 177.8, 176.0, 181.4, 194.0, 174.2, 141.8, 127.4, 122.0, 120.2, 127.4, 118.4, 113.0, 102.2]\n",
    "\n",
    "av_C = sum(C)/len(C)\n",
    "av_F = sum(F)/len(F)\n",
    "\n",
    "print(\"Promedio de lista en Celsius es\",round(av_C,2))\n",
    "print(\"Promedio de lista en Farenheit es\",round(av_F,2))\n",
    "\n",
    "#How they relate? entre su respectiva poblacion ambas representan lo mismo"
   ]
  },
  {
   "cell_type": "code",
   "execution_count": 71,
   "metadata": {},
   "outputs": [
    {
     "name": "stdout",
     "output_type": "stream",
     "text": [
      "Standard Deviation de lista en Celsius es 19.7\n",
      "Standard Deviation de lista en Farenheit es 35.46\n"
     ]
    }
   ],
   "source": [
    "# 4. Standard deviation of each of the lists. How they relate?\n",
    "import statistics as st\n",
    "\n",
    "#entre su respectiva poblacion ambas representan lo mismo\n",
    "\n",
    "print(\"Standard Deviation de lista en Celsius es\",round(st.stdev(C),2))\n",
    "print(\"Standard Deviation de lista en Farenheit es\",round(st.stdev(F),2))"
   ]
  },
  {
   "cell_type": "code",
   "execution_count": 68,
   "metadata": {},
   "outputs": [
    {
     "data": {
      "text/plain": [
       "(array([-1.41296539,  0.29814866,  0.24629672, -3.12407943, -0.06481493,\n",
       "        -0.01296299,  0.0907409 ,  0.19444478,  0.50555642,  0.81666807,\n",
       "         1.02407583,  1.07592777,  1.02407583,  1.17963165,  1.54259524,\n",
       "         0.97222389,  0.03888896, -0.37592657, -0.53148239, -0.58333433,\n",
       "        -0.37592657, -0.63518627, -0.7907421 , -1.10185374]),\n",
       " array([-1.41296539,  0.29814866,  0.24629672, -3.12407943, -0.06481493,\n",
       "        -0.01296299,  0.0907409 ,  0.19444478,  0.50555642,  0.81666807,\n",
       "         1.02407583,  1.07592777,  1.02407583,  1.17963165,  1.54259524,\n",
       "         0.97222389,  0.03888896, -0.37592657, -0.53148239, -0.58333433,\n",
       "        -0.37592657, -0.63518627, -0.7907421 , -1.10185374]))"
      ]
     },
     "execution_count": 68,
     "metadata": {},
     "output_type": "execute_result"
    }
   ],
   "source": [
    "sc.zscore(C), sc.zscore(F)"
   ]
  },
  {
   "cell_type": "code",
   "execution_count": 67,
   "metadata": {},
   "outputs": [
    {
     "data": {
      "image/png": "[encoded data removed]",
      "text/plain": [
       "<Figure size 720x216 with 2 Axes>"
      ]
     },
     "metadata": {
      "needs_background": "light"
     },
     "output_type": "display_data"
    }
   ],
   "source": [
    "import scipy.stats as sc\n",
    "import matplotlib.pyplot as plt\n",
    "%matplotlib inline\n",
    "\n",
    "\n",
    "plots = plt.figure(figsize=(10,3))\n",
    "C_plot = plots.add_subplot(121)\n",
    "F_plot = plots.add_subplot(122)\n",
    "\n",
    "C_plot.plot(sc.zscore(C))\n",
    "C_plot.title.set_text('Z Score de Celsius')\n",
    "\n",
    "F_plot.plot(sc.zscore(F))\n",
    "F_plot.title.set_text('Z Score de Farenheit')"
   ]
  }
 ],
 "metadata": {
  "kernelspec": {
   "display_name": "Python 3",
   "language": "python",
   "name": "python3"
  },
  "language_info": {
   "codemirror_mode": {
    "name": "ipython",
    "version": 3
   },
   "file_extension": ".py",
   "mimetype": "text/x-python",
   "name": "python",
   "nbconvert_exporter": "python",
   "pygments_lexer": "ipython3",
   "version": "3.7.3"
  }
 },
 "nbformat": 4,
 "nbformat_minor": 2
}
