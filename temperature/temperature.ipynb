{
 "cells": [
  {
   "cell_type": "markdown",
   "metadata": {},
   "source": [
    "# Processor temperature\n",
    "\n",
    "We have a temperature sensor in the processor of our company's server. We want to analyze the data provided to determinate whether we should change the cooling system for a better one. It is expensive and as a data analyst we cannot make decisions without a basis.\n",
    "\n",
    "We provide the temperatures measured throughout the 24 hours of a day in a list-type data structure composed of 24 integers:\n",
    "```\n",
    "temperatures_C = [33,66,65,0,59,60,62,64,70,76,80,69,80,83,68,79,61,53,50,49,53,48,45,39]\n",
    "```\n",
    "\n",
    "## Goals\n",
    "\n",
    "1. Treatment of lists\n",
    "2. Use of loop or list comprenhention\n",
    "3. Calculation of the mean, minimum and maximum.\n",
    "4. Filtering of lists.\n",
    "5. Interpolate an outlier.\n",
    "6. Logical operators.\n",
    "7. Print"
   ]
  },
  {
   "cell_type": "markdown",
   "metadata": {},
   "source": [
    "## Temperature graph\n",
    "To facilitate understanding, the temperature graph is shown below. You do not have to do anything in this section. The test starts in **Problem**."
   ]
  },
  {
   "cell_type": "code",
   "execution_count": 1,
   "metadata": {},
   "outputs": [
    {
     "data": {
      "text/plain": [
       "Text(0.5, 1.0, 'Temperatures of our server throughout the day')"
      ]
     },
     "execution_count": 1,
     "metadata": {},
     "output_type": "execute_result"
    },
    {
     "data": {
      "image/png": "[encoded data removed]",
      "text/plain": [
       "<Figure size 432x288 with 1 Axes>"
      ]
     },
     "metadata": {
      "needs_background": "light"
     },
     "output_type": "display_data"
    }
   ],
   "source": [
    "# import\n",
    "import matplotlib.pyplot as plt\n",
    "%matplotlib inline\n",
    "\n",
    "# axis x, axis y\n",
    "y = [33,66,65,0,59,60,62,64,70,76,80,81,80,83,90,79,61,53,50,49,53,48,45,39]\n",
    "x = list(range(len(y)))\n",
    "\n",
    "# plot\n",
    "plt.plot(x, y)\n",
    "plt.axhline(y=70, linewidth=1, color='r')\n",
    "plt.xlabel('hours')\n",
    "plt.ylabel('Temperature ºC')\n",
    "plt.title('Temperatures of our server throughout the day')"
   ]
  },
  {
   "cell_type": "markdown",
   "metadata": {},
   "source": [
    "## Problem\n",
    "\n",
    "If the sensor detects more than 4 hours with temperatures greater than or equal to 70ºC or any temperature above 80ºC or the average exceeds 65ºC throughout the day, we must give the order to change the cooling system to avoid damaging the processor.\n",
    "\n",
    "We will guide you step by step so you can make the decision by calculating some intermediate steps:\n",
    "\n",
    "1. Minimum temperature\n",
    "2. Maximum temperature\n",
    "3. Temperatures equal to or greater than 70ºC\n",
    "4. Average temperatures throughout the day.\n",
    "5. If there was a sensor failure at 03:00 and we did not capture the data, how would you estimate the value that we lack? Correct that value in the list of temperatures.\n",
    "6. Bonus: Our maintenance staff is from the United States and does not understand the international metric system. Pass temperatures to Degrees Fahrenheit.\n",
    "\n",
    "Formula: F = 1.8 * C + 32\n",
    "\n",
    "web: https://en.wikipedia.org/wiki/Conversion_of_units_of_temperature\n"
   ]
  },
  {
   "cell_type": "code",
   "execution_count": 2,
   "metadata": {},
   "outputs": [],
   "source": [
    "# assign a variable to the list of temperatures\n",
    "\n",
    "# 1. Calculate the minimum of the list and print the value using print()\n",
    "\n",
    "\n",
    "# 2. Calculate the maximum of the list and print the value using print()\n",
    "\n",
    "\n",
    "# 3. Items in the list that are greater than 70ºC and print the result\n",
    "\n",
    "\n",
    "# 4. Calculate the mean temperature throughout the day and print the result\n",
    "\n",
    "\n",
    "# 5.1 Solve the fault in the sensor by estimating a value\n",
    "\n",
    "\n",
    "# 5.2 Update of the estimated value at 03:00 on the list\n",
    "\n",
    "\n",
    "\n",
    "# Bonus: convert the list of ºC to ºFarenheit\n",
    "\n"
   ]
  },
  {
   "cell_type": "markdown",
   "metadata": {},
   "source": [
    "## Take the decision\n",
    "Remember that if the sensor detects more than 4 hours with temperatures greater than or equal to 70ºC or any temperature higher than 80ºC or the average was higher than 65ºC throughout the day, we must give the order to change the cooling system to avoid the danger of damaging the equipment:\n",
    "* more than 4 hours with temperatures greater than or equal to 70ºC\n",
    "* some temperature higher than 80ºC\n",
    "* average was higher than 65ºC throughout the day\n",
    "If any of these three is met, the cooling system must be changed.\n"
   ]
  },
  {
   "cell_type": "code",
   "execution_count": 3,
   "metadata": {},
   "outputs": [],
   "source": [
    "# Print True or False depending on whether you would change the cooling system or not\n",
    "\n"
   ]
  },
  {
   "cell_type": "markdown",
   "metadata": {},
   "source": [
    "## Future improvements\n",
    "1. We want the hours (not the temperatures) whose temperature exceeds 70ºC\n",
    "2. Condition that those hours are more than 4 consecutive and consecutive, not simply the sum of the whole set. Is this condition met?\n",
    "3. Average of each of the lists (ºC and ºF). How they relate?\n",
    "4. Standard deviation of each of the lists. How they relate?\n"
   ]
  },
  {
   "cell_type": "code",
   "execution_count": 4,
   "metadata": {},
   "outputs": [],
   "source": [
    "# 1. We want the hours (not the temperatures) whose temperature exceeds 70ºC\n",
    "\n"
   ]
  },
  {
   "cell_type": "code",
   "execution_count": 5,
   "metadata": {},
   "outputs": [],
   "source": [
    "# 2. Condition that those hours are more than 4 consecutive and consecutive, not simply the sum of the whole set. Is this condition met?\n",
    "\n"
   ]
  },
  {
   "cell_type": "code",
   "execution_count": 6,
   "metadata": {},
   "outputs": [],
   "source": [
    "# 3. Average of each of the lists (ºC and ºF). How they relate?\n",
    "\n"
   ]
  },
  {
   "cell_type": "code",
   "execution_count": 7,
   "metadata": {},
   "outputs": [],
   "source": [
    "# 4. Standard deviation of each of the lists. How they relate?\n",
    "\n"
   ]
  },
  {
   "cell_type": "code",
   "execution_count": 1,
   "metadata": {},
   "outputs": [
    {
     "name": "stdout",
     "output_type": "stream",
     "text": [
      "¿Se debe cambiar el sistema de refrigeración?:  True\n",
      "Temperatura mínima:  0  °C\n",
      "Temperatura máxima:  90  °C\n",
      "Temperaturas mayores o iguales a 70°C:  [70, 76, 80, 81, 80, 83, 90, 79]\n",
      "Media de temperatura durante el día:  60.25  °C\n",
      "Lista de temperaturas en °Farenheit:\n",
      "[91.4, 150.8, 149.0, 32.0, 138.2, 140.0, 143.60000000000002, 147.2, 158.0, 168.8, 176.0, 177.8, 176.0, 181.4, 194.0, 174.20000000000002, 141.8, 127.4, 122.0, 120.2, 127.4, 118.4, 113.0, 102.2]\n"
     ]
    },
    {
     "data": {
      "image/png": "[encoded data removed]",
      "text/plain": [
       "<Figure size 432x288 with 1 Axes>"
      ]
     },
     "metadata": {
      "needs_background": "light"
     },
     "output_type": "display_data"
    },
    {
     "name": "stdout",
     "output_type": "stream",
     "text": [
      "Con interpolación:  [33, 66, 65, 62.0, 59, 60, 62, 64, 70, 76, 80, 81, 80, 83, 90, 79, 61, 53, 50, 49, 53, 48, 45, 39]\n"
     ]
    },
    {
     "data": {
      "image/png": "[encoded data removed]",
      "text/plain": [
       "<Figure size 432x288 with 1 Axes>"
      ]
     },
     "metadata": {
      "needs_background": "light"
     },
     "output_type": "display_data"
    },
    {
     "name": "stdout",
     "output_type": "stream",
     "text": [
      "Horas en las que la temperatura fue mayor o igual a 70°C:  [8, 9, 10, 11, 12, 13, 14, 15]\n",
      "Número de horas consecutivas con temperatura mayor a 70°C :  8\n",
      "Promedio de °C:  60.25\n",
      "Promedio de °C:  140.45\n",
      "Desviación Estándar de °C:  14.633485192833897\n",
      "Desviación Estándar de °F:  34.71422619042516\n",
      "La relación entre los promedios en °C y °F es lineal, es por eso que podemos utilizar \n",
      " °F = 1.8 * °C +32 para obtener el promedio de la temperatura en °F a partir del promedio en °C\n",
      "La relación entre las desviaciones en no lineal\n"
     ]
    }
   ],
   "source": [
    "# import\n",
    "import matplotlib.pyplot as plt\n",
    "%matplotlib inline\n",
    "\n",
    "# axis x, axis y\n",
    "y = [33,66,65,0,59,60,62,64,70,76,80,81,80,83,90,79,61,53,50,49,53,48,45,39]\n",
    "x = list(range(len(y)))\n",
    "\n",
    "promedioDia = sum(y)/len(y)\n",
    "temperaturas70 = 0\n",
    "temperaturas80 = False\n",
    "horasContinuas = False\n",
    "temperaturaFahrenheit = []\n",
    "temperaturaMayor70 = []\n",
    "contadorHoras = 0\n",
    "\n",
    "def convertirAFahrenheit(temperatura):\n",
    "    return 1.8 * temperatura + 32\n",
    "\n",
    "def interpolacionLineal (x1,x2,y1,y2, x):\n",
    "    y = y1 + (x - x1) *((y2 - y1)/(x2 - x1))\n",
    "    return y\n",
    "def desviacionEstandar (lista):\n",
    "    sumaCuadrada = 0\n",
    "    media = sum(lista)/ len(lista)\n",
    "    for item in lista:\n",
    "        sumaCuadrada += (item - media)**2\n",
    "    return (sumaCuadrada/len(lista))**(1/2)\n",
    "\n",
    "for temperatura in y:\n",
    "    temperaturaFahrenheit.append(convertirAFahrenheit(temperatura))\n",
    "\n",
    "    if(temperatura >= 70):\n",
    "        temperaturas70 +=1\n",
    "        temperaturaMayor70.append(temperatura)\n",
    "        if(temperaturas70 >= 4):\n",
    "            horasContinuas = True\n",
    "            contadorHoras += temperaturas70\n",
    "            temperaturas70 = 0\n",
    "    elif(temperaturas70 < 4):\n",
    "        temperaturas70 = 0\n",
    "\n",
    "    if(temperatura >= 80):\n",
    "        temperaturas80 = True\n",
    "\n",
    "#Toma de decisión\n",
    "mediaDia = sum(y)/len(y)\n",
    "print(\"¿Se debe cambiar el sistema de refrigeración?: \",(temperaturas80 | (temperaturas70>=4) |(mediaDia > 65)))\n",
    "\n",
    "print(\"Temperatura mínima: \", min(y), \" °C\")\n",
    "print(\"Temperatura máxima: \",max(y), \" °C\")\n",
    "print(\"Temperaturas mayores o iguales a 70°C: \", temperaturaMayor70)\n",
    "print(\"Media de temperatura durante el día: \", mediaDia, \" °C\")\n",
    "print(\"Lista de temperaturas en °Farenheit:\")\n",
    "print(temperaturaFahrenheit)\n",
    "\n",
    "\n",
    "# plot\n",
    "plt.plot(x, y)\n",
    "plt.axhline(y=70, linewidth=1, color='r')\n",
    "plt.xlabel('hours')\n",
    "plt.ylabel('Temperature ºC')\n",
    "plt.title('Temperatures of our server throughout the day')\n",
    "plt.show()\n",
    "\n",
    "#Interpolacion 3hrs\n",
    "\n",
    "x3 = 3\n",
    "y3 = interpolacionLineal(x[2],x[4],y[2],y[4],x3)\n",
    "\n",
    "nuevoY = y\n",
    "nuevoY[3] = y3\n",
    "print(\"Con interpolación: \", nuevoY)\n",
    "plt.plot(x, nuevoY)\n",
    "plt.axhline(y=70, linewidth=1, color='r')\n",
    "plt.xlabel('hours')\n",
    "plt.ylabel('Temperature ºC')\n",
    "plt.title('Temperatures of our server throughout the day')\n",
    "plt.show()\n",
    "\n",
    "#Future Improvements\n",
    "\n",
    "horasExcesos = []\n",
    "hora = 0\n",
    "for temperatura in y:\n",
    "    if(temperatura >= 70):\n",
    "        horasExcesos.append(hora)\n",
    "    hora += 1\n",
    "horasContinuas = False\n",
    "\n",
    "\n",
    "\n",
    "\n",
    "print(\"Horas en las que la temperatura fue mayor o igual a 70°C: \",horasExcesos)\n",
    "print(\"Número de horas consecutivas con temperatura mayor a 70°C : \", contadorHoras)\n",
    "print(\"Promedio de °C: \", mediaDia)\n",
    "print(\"Promedio de °C: \", sum(temperaturaFahrenheit)/len(temperaturaFahrenheit))\n",
    "print(\"Desviación Estándar de °C: \", desviacionEstandar(y))\n",
    "print(\"Desviación Estándar de °F: \", desviacionEstandar(temperaturaFahrenheit))\n",
    "\n",
    "print(\"La relación entre los promedios en °C y °F es lineal, es por eso que podemos utilizar \\n °F = 1.8 * °C +32 para \" \\\n",
    "    \"obtener el promedio de la temperatura en °F a partir del promedio en °C\")\n",
    "\n",
    "print(\"La relación entre las desviaciones en no lineal\")\n"
   ]
  },
  {
   "cell_type": "code",
   "execution_count": null,
   "metadata": {},
   "outputs": [],
   "source": []
  }
 ],
 "metadata": {
  "kernelspec": {
   "display_name": "Python 3",
   "language": "python",
   "name": "python3"
  },
  "language_info": {
   "codemirror_mode": {
    "name": "ipython",
    "version": 3
   },
   "file_extension": ".py",
   "mimetype": "text/x-python",
   "name": "python",
   "nbconvert_exporter": "python",
   "pygments_lexer": "ipython3",
   "version": "3.7.0"
  }
 },
 "nbformat": 4,
 "nbformat_minor": 2
}
