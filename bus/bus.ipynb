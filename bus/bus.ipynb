{
 "cells": [
  {
   "cell_type": "markdown",
   "metadata": {},
   "source": [
    "# Bus\n",
    "\n",
    "This bus has a passenger entry and exit control system to monitor the number of occupants it carries and thus detect when there is too high a capacity.\n",
    "\n",
    "At each stop the entry and exit of passengers is represented by a tuple consisting of two integer numbers.\n",
    "```\n",
    "bus_stop = (in, out)\n",
    "```\n",
    "The succession of stops is represented by a list of these tuples.\n",
    "```\n",
    "stops = [(in1, out1), (in2, out2), (in3, out3), (in4, out4)]\n",
    "```\n",
    "\n",
    "## Goals:\n",
    "* lists, tuples\n",
    "* while/for loops\n",
    "* minimum, maximum, length\n",
    "* average, standard deviation\n",
    "\n",
    "## Tasks\n",
    "1. Calculate the number of stops.\n",
    "2. Assign to a variable a list whose elements are the number of passengers at each stop (in-out),\n",
    "3. Find the maximum occupation of the bus.\n",
    "4. Calculate the average occupation. And the standard deviation.\n"
   ]
  },
  {
   "cell_type": "code",
   "execution_count": 1,
   "metadata": {},
   "outputs": [],
   "source": [
    "# variables\n",
    "\n"
   ]
  },
  {
   "cell_type": "code",
   "execution_count": 2,
   "metadata": {},
   "outputs": [],
   "source": [
    "# 1. Calculate the number of stops.\n",
    "\n"
   ]
  },
  {
   "cell_type": "code",
   "execution_count": 3,
   "metadata": {},
   "outputs": [],
   "source": [
    "# 2. Assign a variable a list whose elements are the number of passengers in each stop: \n",
    "# Each item depends on the previous item in the list + in - out.\n",
    "\n"
   ]
  },
  {
   "cell_type": "code",
   "execution_count": 4,
   "metadata": {},
   "outputs": [],
   "source": [
    "# 3. Find the maximum occupation of the bus.\n",
    "\n"
   ]
  },
  {
   "cell_type": "code",
   "execution_count": 5,
   "metadata": {},
   "outputs": [],
   "source": [
    "# 4. Calculate the average occupation. And the standard deviation.\n",
    "\n"
   ]
  },
  {
   "cell_type": "code",
   "execution_count": 1,
   "metadata": {},
   "outputs": [
    {
     "name": "stdout",
     "output_type": "stream",
     "text": [
      "Paradas totales =  4\n",
      "Ocupación máxima =  37\n",
      "Ocupación mínima =  12\n",
      "Ocupación promedio =  23.75\n",
      "Desviación de la ocupación =  9.12071817347735\n"
     ]
    }
   ],
   "source": [
    "capacidadMaxima = 150\n",
    "stops = [(20,0),(10,4),(12,26),(25,0)]\n",
    "aforoActual = 0\n",
    "aforo = []\n",
    "parada = 0\n",
    "\n",
    "while((aforoActual < capacidadMaxima) & (parada < len(stops))):\n",
    "    bus_stop = stops[parada]\n",
    "    aforoActual += (bus_stop[0] - bus_stop[1])\n",
    "    if(aforoActual <= capacidadMaxima):\n",
    "        aforo.append(aforoActual)\n",
    "        parada +=1\n",
    "    else:\n",
    "        aforoActual = capacidadMaxima\n",
    "        aforo.append(aforoActual)\n",
    "        break\n",
    "\n",
    "media = sum(aforo)/len(aforo)\n",
    "sumaCuadrada = 0\n",
    "for ocupacion in aforo:\n",
    "    sumaCuadrada += (ocupacion - media)**2\n",
    "\n",
    "print(\"Paradas totales = \", len(aforo))\n",
    "print(\"Ocupación máxima = \", max(aforo))\n",
    "print(\"Ocupación mínima = \",min(aforo))\n",
    "print(\"Ocupación promedio = \", media)\n",
    "print(\"Desviación de la ocupación = \", (sumaCuadrada/len(aforo))**(1/2))"
   ]
  },
  {
   "cell_type": "code",
   "execution_count": null,
   "metadata": {},
   "outputs": [],
   "source": []
  }
 ],
 "metadata": {
  "kernelspec": {
   "display_name": "Python 3",
   "language": "python",
   "name": "python3"
  },
  "language_info": {
   "codemirror_mode": {
    "name": "ipython",
    "version": 3
   },
   "file_extension": ".py",
   "mimetype": "text/x-python",
   "name": "python",
   "nbconvert_exporter": "python",
   "pygments_lexer": "ipython3",
   "version": "3.7.0"
  }
 },
 "nbformat": 4,
 "nbformat_minor": 2
}
