{
 "cells": [
  {
   "cell_type": "markdown",
   "metadata": {},
   "source": [
    "# Bus\n",
    "\n",
    "This bus has a passenger entry and exit control system to monitor the number of occupants it carries and thus detect when there is too high a capacity.\n",
    "\n",
    "At each stop the entry and exit of passengers is represented by a tuple consisting of two integer numbers.\n",
    "```\n",
    "bus_stop = (in, out)\n",
    "```\n",
    "The succession of stops is represented by a list of these tuples.\n",
    "```\n",
    "stops = [(in1, out1), (in2, out2), (in3, out3), (in4, out4)]\n",
    "```\n",
    "\n",
    "## Goals:\n",
    "* lists, tuples\n",
    "* while/for loops\n",
    "* minimum, maximum, length\n",
    "* average, standard deviation\n",
    "\n",
    "## Tasks\n",
    "1. Calculate the number of stops.\n",
    "2. Assign to a variable a list whose elements are the number of passengers at each stop (in-out),\n",
    "3. Find the maximum occupation of the bus.\n",
    "4. Calculate the average occupation. And the standard deviation.\n"
   ]
  },
  {
   "cell_type": "code",
   "execution_count": 2,
   "metadata": {},
   "outputs": [],
   "source": [
    "# variables\n",
    "bus_stop = (\"in\", \"out\")\n",
    "stops = [(\"in1\", \"out1\"), (\"in2\", \"out2\"), (\"in3\", \"out3\"), (\"in4\", \"out4\")]\n"
   ]
  },
  {
   "cell_type": "code",
   "execution_count": 4,
   "metadata": {},
   "outputs": [
    {
     "name": "stdout",
     "output_type": "stream",
     "text": [
      "The bus made 4 stops\n"
     ]
    }
   ],
   "source": [
    "# 1. Calculate the number of stops.\n",
    "\n",
    "number_stops = len(stops)\n",
    "print(\"The bus made\", number_stops, \"stops\")"
   ]
  },
  {
   "cell_type": "code",
   "execution_count": 24,
   "metadata": {},
   "outputs": [],
   "source": [
    "# 2. Assign a variable a list whose elements are the number of passengers in each stop: \n",
    "# Each item depends on the previous item in the list + in - out.\n",
    "\n",
    "''' I understand this exercise is theoric, since we have no data... \n",
    "so what I am doing is just setup the function so that any data of the type can apply.\n",
    "'''\n",
    "\n",
    "def number_per_stop(a):\n",
    "    number_list = [a[0][0]-a[0][1]]\n",
    "    previous_number = a[0][0]-a[0][1]\n",
    "    i = 1\n",
    "    for i in range(1,len(a)):\n",
    "        if previous_number + a[i][0] - a[i][1] < 0:\n",
    "            return \"Impossible values\"\n",
    "        else:\n",
    "            number_list.append(previous_number + a[i][0] - a[i][1])\n",
    "            previous_number += a[i][0] - a[i][1]\n",
    "            i += 1\n",
    "    return number_list\n",
    "\n",
    "passengers_per_stop = number_per_stop(stops)\n"
   ]
  },
  {
   "cell_type": "code",
   "execution_count": 4,
   "metadata": {},
   "outputs": [],
   "source": [
    "# 3. Find the maximum occupation of the bus.\n",
    "\n",
    "max_occupation = max(passengers_per_stop)"
   ]
  },
  {
   "cell_type": "code",
   "execution_count": 5,
   "metadata": {},
   "outputs": [],
   "source": [
    "# 4. Calculate the average occupation. And the standard deviation.\n",
    "'''\n",
    "Sorry for using numpy for std deviation... it is just too much code for 1 simple statistic :P \n",
    "'''\n",
    "\n",
    "avg_occupation = sum(passengers_per_stop)/len(passengers_per_stop)\n",
    "\n",
    "import numpy\n",
    "std_occupation = numpy.std(passengers_per_stop)"
   ]
  },
  {
   "cell_type": "code",
   "execution_count": null,
   "metadata": {},
   "outputs": [],
   "source": []
  }
 ],
 "metadata": {
  "kernelspec": {
   "display_name": "Python 3",
   "language": "python",
   "name": "python3"
  },
  "language_info": {
   "codemirror_mode": {
    "name": "ipython",
    "version": 3
   },
   "file_extension": ".py",
   "mimetype": "text/x-python",
   "name": "python",
   "nbconvert_exporter": "python",
   "pygments_lexer": "ipython3",
   "version": "3.7.3"
  }
 },
 "nbformat": 4,
 "nbformat_minor": 2
}
