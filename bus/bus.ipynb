{
 "cells": [
  {
   "cell_type": "markdown",
   "metadata": {},
   "source": [
    "# Bus\n",
    "\n",
    "This bus has a passenger entry and exit control system to monitor the number of occupants it carries and thus detect when there is too high a capacity.\n",
    "\n",
    "At each stop the entry and exit of passengers is represented by a tuple consisting of two integer numbers.\n",
    "```\n",
    "bus_stop = (in, out)\n",
    "```\n",
    "The succession of stops is represented by a list of these tuples.\n",
    "```\n",
    "stops = [(in1, out1), (in2, out2), (in3, out3), (in4, out4)]\n",
    "```\n",
    "\n",
    "## Goals:\n",
    "* lists, tuples\n",
    "* while/for loops\n",
    "* minimum, maximum, length\n",
    "* average, standard deviation\n",
    "\n",
    "## Tasks\n",
    "1. Calculate the number of stops.\n",
    "2. Assign to a variable a list whose elements are the number of passengers at each stop (in-out),\n",
    "3. Find the maximum occupation of the bus.\n",
    "4. Calculate the average occupation. And the standard deviation.\n"
   ]
  },
  {
   "cell_type": "code",
   "execution_count": 87,
   "metadata": {
    "scrolled": true
   },
   "outputs": [
    {
     "name": "stdout",
     "output_type": "stream",
     "text": [
      "Número de paradas 4\n",
      "[['in1', 'ou1'], ['in2', 'ou2'], ['in3', 'ou3'], ['in4', 'ou4']]\n",
      "Pasajeros=Entrada in1 - Salida ou1\n",
      "Pasajeros=Entrada in2 - Salida ou2\n",
      "Pasajeros=Entrada in3 - Salida ou3\n",
      "Pasajeros=Entrada in4 - Salida ou4\n"
     ]
    }
   ],
   "source": [
    "# variables\n",
    "#Todo se expresa en variables\n",
    "stop = [('in1', 'ou1'), ('in2', 'ou2'), ('in3', 'ou3'), ('in4', 'ou4')]# se dejarán como variables\n",
    "n=len(stop)\n",
    "print(\"Número de paradas\",n)\n",
    "\n",
    "def lista(listadepasajeros):\n",
    "    listadeparadas = []                                                          \n",
    "    for tuple in listadepasajeros:\n",
    "        listadeparadas.append(list(tuple))\n",
    "\n",
    "    return listadeparadas \n",
    "\n",
    "a=lista(stop)\n",
    "print(a)\n",
    "#Expresión para pasajeros en cada parada \n",
    "for i in a:\n",
    "    print(\"Pasajeros=Entrada\",i[0],\"-\",\"Salida\",i[1])\n",
    "#Expresion para el máximo \n",
    "    max(a)\n",
    "#Expresion para el promedio y desviación standard\n",
    "def promediarLista(a):\n",
    "    sum=0.0\n",
    "    for i in range(0,len(a)):\n",
    "        sum=sum+a[i]\n",
    " \n",
    "    return sum/len(a)\n",
    "\n",
    "#Expresion para desviacion estandar de la lista \n",
    "for i in a:\n",
    "    break # se coloca un break ya que se necesitan valores entero para hacer este tipo de operación\n",
    "    r = ((i[1]-i[0])- promedio)**2\n",
    "    a.append(r)\n",
    "    desviacion = (sum(a)/(n - 1))**0.5"
   ]
  },
  {
   "cell_type": "code",
   "execution_count": 51,
   "metadata": {},
   "outputs": [],
   "source": [
    "# 1. Calculate the number of stops.\n",
    "\n"
   ]
  },
  {
   "cell_type": "code",
   "execution_count": 52,
   "metadata": {},
   "outputs": [],
   "source": [
    "# 2. Assign a variable a list whose elements are the number of passengers in each stop: \n",
    "# Each item depends on the previous item in the list + in - out.\n",
    "\n"
   ]
  },
  {
   "cell_type": "code",
   "execution_count": 53,
   "metadata": {},
   "outputs": [],
   "source": [
    "# 3. Find the maximum occupation of the bus.\n",
    "\n"
   ]
  },
  {
   "cell_type": "code",
   "execution_count": 5,
   "metadata": {},
   "outputs": [],
   "source": [
    "# 4. Calculate the average occupation. And the standard deviation.\n",
    "\n"
   ]
  },
  {
   "cell_type": "code",
   "execution_count": null,
   "metadata": {},
   "outputs": [],
   "source": []
  }
 ],
 "metadata": {
  "kernelspec": {
   "display_name": "Python 3",
   "language": "python",
   "name": "python3"
  },
  "language_info": {
   "codemirror_mode": {
    "name": "ipython",
    "version": 3
   },
   "file_extension": ".py",
   "mimetype": "text/x-python",
   "name": "python",
   "nbconvert_exporter": "python",
   "pygments_lexer": "ipython3",
   "version": "3.7.3"
  }
 },
 "nbformat": 4,
 "nbformat_minor": 2
}
