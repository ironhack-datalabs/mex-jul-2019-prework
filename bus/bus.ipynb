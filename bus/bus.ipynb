{
 "cells": [
  {
   "cell_type": "code",
   "execution_count": 2,
   "metadata": {},
   "outputs": [
    {
     "name": "stdout",
     "output_type": "stream",
     "text": [
      "Number of stops =  5\n",
      "Number of passengers per stop =  [8, 7, 9, 6, 3]\n",
      "Maximum occupation = 9\n",
      "Average occupation =  6.6\n",
      "Standard deviation of occupation =  2.3021728866442674\n"
     ]
    }
   ],
   "source": [
    "import statistics as st\n",
    "\n",
    "stops = [(10, 2), (8, 1), (15, 6), (9, 3), (3,0)]\n",
    "\n",
    "passengers_per_stop = []\n",
    "\n",
    "for stop in stops:\n",
    "  random = stop[0] - stop[1]\n",
    "  passengers_per_stop.append(random)\n",
    "\n",
    "number_stops = len(stops)\n",
    "maximum_occupation = max(passengers_per_stop)\n",
    "average_occupation = st.mean(passengers_per_stop)\n",
    "standard_deviation_occupation = st.stdev(passengers_per_stop)\n",
    "\n",
    "print (\"Number of stops = \", number_stops)\n",
    "print (\"Number of passengers per stop = \", passengers_per_stop)\n",
    "print (\"Maximum occupation =\", maximum_occupation)\n",
    "print (\"Average occupation = \", average_occupation)\n",
    "print (\"Standard deviation of occupation = \", standard_deviation_occupation)"
   ]
  },
  {
   "cell_type": "code",
   "execution_count": null,
   "metadata": {},
   "outputs": [],
   "source": []
  }
 ],
 "metadata": {
  "kernelspec": {
   "display_name": "Python 3",
   "language": "python",
   "name": "python3"
  },
  "language_info": {
   "codemirror_mode": {
    "name": "ipython",
    "version": 3
   },
   "file_extension": ".py",
   "mimetype": "text/x-python",
   "name": "python",
   "nbconvert_exporter": "python",
   "pygments_lexer": "ipython3",
   "version": "3.7.4"
  }
 },
 "nbformat": 4,
 "nbformat_minor": 2
}
