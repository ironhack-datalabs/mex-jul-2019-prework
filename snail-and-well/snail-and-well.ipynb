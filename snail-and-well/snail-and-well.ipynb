{
 "cells": [
  {
   "cell_type": "code",
   "execution_count": 1,
   "metadata": {},
   "outputs": [
    {
     "name": "stdout",
     "output_type": "stream",
     "text": [
      "Days =  13\n"
     ]
    }
   ],
   "source": [
    "well_height = 125\n",
    "daily_advance = 30\n",
    "night_retreat = 20\n",
    "advance = 0\n",
    "\n",
    "advance_cm = []\n",
    "\n",
    "while well_height > advance:\n",
    "  advance = advance + daily_advance - night_retreat\n",
    "  advance_cm.append(advance)\n",
    "  if (well_height < advance):\n",
    "    break\n",
    "\n",
    "days = len(advance_cm)\n",
    "\n",
    "print (\"Days = \", days)\n"
   ]
  },
  {
   "cell_type": "code",
   "execution_count": 2,
   "metadata": {},
   "outputs": [
    {
     "name": "stdout",
     "output_type": "stream",
     "text": [
      "Days =  11\n",
      "Minimum = 12\n",
      "Maximum =  77\n",
      "Speed =  38.09090909090909\n",
      "Standard deviation =  17.996969441850734\n"
     ]
    }
   ],
   "source": [
    "import statistics\n",
    "\n",
    "advance_cm = [30, 21, 33, 77, 44, 45, 23, 45, 12, 34, 55]\n",
    "\n",
    "days = len(advance_cm)\n",
    "maximum = max(advance_cm)\n",
    "minimum = min(advance_cm)\n",
    "speed = sum(advance_cm)/days\n",
    "standard_deviation = statistics.stdev(advance_cm)\n",
    "\n",
    "print (\"Days = \", days)\n",
    "print (\"Minimum =\", minimum)\n",
    "print (\"Maximum = \", maximum)\n",
    "print (\"Speed = \", (speed))\n",
    "print (\"Standard deviation = \", (standard_deviation))"
   ]
  },
  {
   "cell_type": "code",
   "execution_count": null,
   "metadata": {},
   "outputs": [],
   "source": []
  }
 ],
 "metadata": {
  "kernelspec": {
   "display_name": "Python 3",
   "language": "python",
   "name": "python3"
  },
  "language_info": {
   "codemirror_mode": {
    "name": "ipython",
    "version": 3
   },
   "file_extension": ".py",
   "mimetype": "text/x-python",
   "name": "python",
   "nbconvert_exporter": "python",
   "pygments_lexer": "ipython3",
   "version": "3.7.4"
  }
 },
 "nbformat": 4,
 "nbformat_minor": 2
}
