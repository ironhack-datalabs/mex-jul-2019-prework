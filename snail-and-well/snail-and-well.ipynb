{
 "cells": [
  {
   "cell_type": "markdown",
   "metadata": {},
   "source": [
    "# Snail and well\n",
    "\n",
    "A snail falls at the bottom of a 125 cm well. Each day the snail rises 30 cm. But at night, while sleeping, slides 20 cm because the walls are wet. How many days does it take to escape from the well?\n",
    "\n",
    "TIP: http://puzzles.nigelcoldwell.co.uk/sixtytwo.htm"
   ]
  },
  {
   "cell_type": "markdown",
   "metadata": {},
   "source": [
    "## Solución"
   ]
  },
  {
   "cell_type": "code",
   "execution_count": 53,
   "metadata": {},
   "outputs": [
    {
     "name": "stdout",
     "output_type": "stream",
     "text": [
      "Distance at day 1 : 10 cm\n",
      "Distance at day 2 : 20 cm\n",
      "Distance at day 3 : 30 cm\n",
      "Distance at day 4 : 40 cm\n",
      "Distance at day 5 : 50 cm\n",
      "Distance at day 6 : 60 cm\n",
      "Distance at day 7 : 70 cm\n",
      "Distance at day 8 : 80 cm\n",
      "Distance at day 9 : 90 cm\n",
      "Distance at day 10 : 100 cm\n",
      "Final distance: 130 cm\n",
      "Days = 11 \n",
      "But actually a little bit short that, since it walks 5 extra centimeters :P\n"
     ]
    }
   ],
   "source": [
    "# Even though the problem didn't ask, I thought better to define as a function\n",
    "# I did that so I do not have the risk to misuse any variables or having to define variables with new names...\n",
    "\n",
    "well_height = 125\n",
    "\n",
    "def escape_well_constant(depth):\n",
    "    daily_advance = 30\n",
    "    night_retreat = 20\n",
    "    net_daily_advance = daily_advance - night_retreat\n",
    "    accumulated_distance = 0\n",
    "    days = 0\n",
    "    while accumulated_distance < depth:\n",
    "        if well_height - accumulated_distance > 30:\n",
    "            accumulated_distance += net_daily_advance\n",
    "            days += 1\n",
    "            print(\"Distance at day\",days,\":\", accumulated_distance, \"cm\")\n",
    "        else:\n",
    "            accumulated_distance += 30\n",
    "            days += 1\n",
    "            print(\"Final distance:\", accumulated_distance, \"cm\")\n",
    "    print('Days =', days, \"\\nBut actually a little bit short that, since it walks 5 extra centimeters :P\")\n",
    "\n",
    "escape_well_constant(well_height)"
   ]
  },
  {
   "cell_type": "markdown",
   "metadata": {},
   "source": [
    "## Goals\n",
    "\n",
    "1. Treatment of variables\n",
    "2. Use of loop **while**\n",
    "3. Use of conditional **if-else**\n",
    "4. Print in console"
   ]
  },
  {
   "cell_type": "markdown",
   "metadata": {},
   "source": [
    "## Bonus\n",
    "The distance traveled by the snail is now defined by a list.\n",
    "```\n",
    "advance_cm = [30, 21, 33, 77, 44, 45, 23, 45, 12, 34, 55]\n",
    "```\n",
    "How long does it take to raise the well?\n",
    "\n",
    "What is its maximum displacement in one day? And its minimum?\n",
    "\n",
    "What is its average speed during the day?\n",
    "\n",
    "What is the standard deviation of its displacement during the day?"
   ]
  },
  {
   "cell_type": "code",
   "execution_count": 33,
   "metadata": {},
   "outputs": [
    {
     "name": "stdout",
     "output_type": "stream",
     "text": [
      "Distance after day 1 : 10\n",
      "Distance after day 2 : 11\n",
      "Distance after day 3 : 24\n",
      "Distance after day 4 : 81\n",
      "Final distance: 125\n",
      "Days: 5\n"
     ]
    }
   ],
   "source": [
    "'''\n",
    "1.2: How long does it take to raise the well?\n",
    "**For this, I am assuming the night sliding remains 20 cm, as it is not mentioned otherwise.\n",
    "**Variable well_height was already defined in the previous cell, \n",
    "    so I am just mentioning it as parameter in the new function,\n",
    "    no need to redefine it...\n",
    "'''\n",
    "\n",
    "advance_cm = [30, 21, 33, 77, 44, 45, 23, 45, 12, 34, 55]\n",
    "\n",
    "def escape_well_var(depth,advance):\n",
    "    night_retreat = 20\n",
    "    accumulated_distance = 0\n",
    "    days = 0\n",
    "    i = 0\n",
    "    for i in range (len(advance)):\n",
    "        if accumulated_distance < advance[i]:\n",
    "            net_daily_advance = advance[i] - night_retreat\n",
    "            accumulated_distance += net_daily_advance\n",
    "            days += 1\n",
    "            print(\"Distance after day\", days, \":\", accumulated_distance)\n",
    "        else:\n",
    "            accumulated_distance += advance[i]\n",
    "            days +=1\n",
    "            print(\"Final distance:\", accumulated_distance)\n",
    "            break\n",
    "    return print(\"Days:\", days)\n",
    "    \n",
    "escape_well_var(well_height, advance_cm)"
   ]
  },
  {
   "cell_type": "code",
   "execution_count": 58,
   "metadata": {},
   "outputs": [
    {
     "name": "stdout",
     "output_type": "stream",
     "text": [
      "The snail's maximum daily displacement is: 77\n",
      "The snail advances an average of 38.09090909090909 cm during the day.\n",
      "The snail's average speed, considering that it advances during 12 hours per day, is: 3.1742424242424243 centimeters per hour.\n",
      "The standard deviation of the snail's progress is: 17.159437082600803\n",
      "Got the std var with 1 line of code in numpy and it is: 17.159437082600803\n"
     ]
    }
   ],
   "source": [
    "# What is its maximum displacement in a day? And its minimum?\n",
    "\n",
    "print(\"The snail's maximum daily displacement is:\", max(advance_cm))\n",
    "\n",
    "# What is its average progress?\n",
    "''' This question has got me confused. \n",
    "Up there you are asking about average speed and now for average progress...\n",
    "Those two are very different questions\n",
    "    \n",
    "    Average progress: sum(advance_cm)/len(advance_cm)\n",
    "    *Answer in cm\n",
    "\n",
    "    Average speed: (sum(advance_cm)/len(advance_cm)/12) \n",
    "    *Answer in cm per hour\n",
    "    **12 hours of progress in a day, \n",
    "    assuming it will walk for 12 hours and rest for 12 hours\n",
    "    \n",
    "    I will answer both anyway, just mentioning...\n",
    "'''\n",
    "\n",
    "average_progress = sum(advance_cm)/len(advance_cm)\n",
    "print(\"The snail advances an average of\", average_progress, \"cm during the day.\")\n",
    "\n",
    "average_speed = average_progress / 12\n",
    "print(\"The snail's average speed, considering that it advances during 12 hours per day, is:\", average_speed, \"centimeters per hour.\")\n",
    "\n",
    "# What is the standard deviation of your displacement during the day?\n",
    "'''\n",
    "I am not moving, so it would not be \"your\" displacement... :P\n",
    "But ok, I am being picky...\n",
    "'''\n",
    "import math\n",
    "\n",
    "def snail_variance(advance_list,mean):\n",
    "    i = 0\n",
    "    sum_dev = 0\n",
    "    for i in range(len(advance_list)):\n",
    "        dev = (advance_list[i]-mean)**2\n",
    "        sum_dev += dev\n",
    "        i += 1\n",
    "    variance = sum_dev / len(advance_list)\n",
    "    return variance\n",
    "\n",
    "snail_standard_deviation = math.sqrt(snail_variance(advance_cm,average_progress))\n",
    "print(\"The standard deviation of the snail's progress is:\", snail_standard_deviation)\n",
    "\n",
    "'''Or, easier with numpy:'''\n",
    "import numpy\n",
    "snail_standard_variation = numpy.std(advance_cm)\n",
    "print(\"Got the std var with 1 line of code in numpy and it is:\", snail_standard_variation)"
   ]
  },
  {
   "cell_type": "code",
   "execution_count": 57,
   "metadata": {},
   "outputs": [],
   "source": []
  },
  {
   "cell_type": "code",
   "execution_count": null,
   "metadata": {},
   "outputs": [],
   "source": []
  }
 ],
 "metadata": {
  "kernelspec": {
   "display_name": "Python 3",
   "language": "python",
   "name": "python3"
  },
  "language_info": {
   "codemirror_mode": {
    "name": "ipython",
    "version": 3
   },
   "file_extension": ".py",
   "mimetype": "text/x-python",
   "name": "python",
   "nbconvert_exporter": "python",
   "pygments_lexer": "ipython3",
   "version": "3.7.3"
  }
 },
 "nbformat": 4,
 "nbformat_minor": 2
}
