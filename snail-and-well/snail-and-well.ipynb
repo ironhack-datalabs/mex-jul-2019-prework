{
 "cells": [
  {
   "cell_type": "markdown",
   "metadata": {},
   "source": [
    "# Snail and well\n",
    "\n",
    "A snail falls at the bottom of a 125 cm well. Each day the snail rises 30 cm. But at night, while sleeping, slides 20 cm because the walls are wet. How many days does it take to escape from the well?\n",
    "\n",
    "TIP: http://puzzles.nigelcoldwell.co.uk/sixtytwo.htm"
   ]
  },
  {
   "cell_type": "markdown",
   "metadata": {},
   "source": [
    "## Solución"
   ]
  },
  {
   "cell_type": "code",
   "execution_count": 1,
   "metadata": {},
   "outputs": [],
   "source": [
    "# Assign problem data to variables with representative names\n",
    "# well height, daily advance, night retreat, accumulated distance\n",
    "\n",
    "# Write the code that solves the problem"
   ]
  },
  {
   "cell_type": "code",
   "execution_count": 12,
   "metadata": {},
   "outputs": [],
   "source": [
    "# Assign 0 to the variable that represents the solution\n",
    "\n",
    "height = 125\n",
    "day_advance = 30\n",
    "night_fall = 20\n",
    "acc_distance = 0\n",
    "days = 0 #variable that represents the solution\n"
   ]
  },
  {
   "cell_type": "code",
   "execution_count": 13,
   "metadata": {},
   "outputs": [
    {
     "name": "stdout",
     "output_type": "stream",
     "text": [
      "days = 11\n"
     ]
    }
   ],
   "source": [
    "while acc_distance < height:\n",
    "    acc_distance = acc_distance + day_advance\n",
    "    days += 1\n",
    "    if acc_distance < height: acc_distance =  acc_distance - night_fall\n",
    "    else: print(\"days =\",days) # Print the result with print('Days =', days)\n",
    "        "
   ]
  },
  {
   "cell_type": "code",
   "execution_count": 14,
   "metadata": {},
   "outputs": [
    {
     "data": {
      "text/plain": [
       "(11, 130)"
      ]
     },
     "execution_count": 14,
     "metadata": {},
     "output_type": "execute_result"
    }
   ],
   "source": [
    "days, acc_distance"
   ]
  },
  {
   "cell_type": "markdown",
   "metadata": {},
   "source": [
    "## Goals\n",
    "\n",
    "1. Treatment of variables\n",
    "2. Use of loop **while**\n",
    "3. Use of conditional **if-else**\n",
    "4. Print in console"
   ]
  },
  {
   "cell_type": "markdown",
   "metadata": {},
   "source": [
    "## Bonus\n",
    "The distance traveled by the snail is now defined by a list.\n",
    "```\n",
    "advance_cm = [30, 21, 33, 77, 44, 45, 23, 45, 12, 34, 55]\n",
    "```\n",
    "How long does it take to raise the well?\n",
    "\n",
    "What is its maximum displacement in one day? And its minimum?\n",
    "\n",
    "What is its average speed during the day?\n",
    "\n",
    "What is the standard deviation of its displacement during the day?"
   ]
  },
  {
   "cell_type": "code",
   "execution_count": 2,
   "metadata": {},
   "outputs": [],
   "source": [
    "# Assign problem data to variables with representative names\n",
    "# well height, daily advance, night retreat, accumulated distance\n",
    "\n",
    "# Write the code that solves the problem"
   ]
  },
  {
   "cell_type": "code",
   "execution_count": 85,
   "metadata": {},
   "outputs": [],
   "source": [
    "# Assign 0 to the variable that represents the solution\n",
    "\n",
    "advance_cm = [30, 21, 33, 77, 44, 45, 23, 45, 12, 34, 55]\n",
    "height = 125\n",
    "day_advance = 30\n",
    "night_fall = 20\n",
    "acc_distance = 0\n",
    "days = 0 #variable that represents the solution\n"
   ]
  },
  {
   "cell_type": "code",
   "execution_count": 86,
   "metadata": {},
   "outputs": [
    {
     "name": "stdout",
     "output_type": "stream",
     "text": [
      "Days= 6\n"
     ]
    }
   ],
   "source": [
    "#How long does it take to raise the well?\n",
    "\n",
    "for ad in advance_cm:\n",
    "    acc_distance+=ad - night_fall\n",
    "    days+=1\n",
    "    if acc_distance >= height: \n",
    "        print(\"Days=\",days) # Print the result with print('Days =', days)\n",
    "        break\n"
   ]
  },
  {
   "cell_type": "code",
   "execution_count": 17,
   "metadata": {},
   "outputs": [
    {
     "name": "stdout",
     "output_type": "stream",
     "text": [
      "Average is 38.091\n"
     ]
    }
   ],
   "source": [
    "# What is its average progress?\n",
    "print(\"Average is {:.3f}\".format(sum(advance_cm)/ len(advance_cm)))"
   ]
  },
  {
   "cell_type": "code",
   "execution_count": 79,
   "metadata": {},
   "outputs": [
    {
     "name": "stdout",
     "output_type": "stream",
     "text": [
      "Standard Deviation is 17.997 cm\n",
      "Maximun displacement is 77 cm\n",
      "Minimun displacement is 12 cm\n"
     ]
    }
   ],
   "source": [
    "# What is its maximum displacement in a day? And its minimum?\n",
    "# What is the standard deviation of your displacement during the day?\n",
    "\n",
    "import statistics as st\n",
    "\n",
    "print(\"Standard Deviation is {:.3f} cm\\nMaximun displacement is {} cm\\nMinimun displacement is {} cm\".format(st.stdev(advance_cm), \n",
    "                                                                                                     max(advance_cm), \n",
    "                                                                                                     min(advance_cm)))"
   ]
  }
 ],
 "metadata": {
  "kernelspec": {
   "display_name": "Python 3",
   "language": "python",
   "name": "python3"
  },
  "language_info": {
   "codemirror_mode": {
    "name": "ipython",
    "version": 3
   },
   "file_extension": ".py",
   "mimetype": "text/x-python",
   "name": "python",
   "nbconvert_exporter": "python",
   "pygments_lexer": "ipython3",
   "version": "3.7.3"
  }
 },
 "nbformat": 4,
 "nbformat_minor": 2
}
