{
 "cells": [
  {
   "cell_type": "code",
   "execution_count": 1,
   "metadata": {},
   "outputs": [
    {
     "name": "stdout",
     "output_type": "stream",
     "text": [
      "Gandalf wins\n"
     ]
    }
   ],
   "source": [
    "gandalf = [10, 11, 13, 30, 22, 11, 10, 33, 22, 22]\n",
    "saruman = [23, 66, 12, 43, 12, 10, 44, 23, 12, 17]\n",
    "\n",
    "gandalf_wins = []\n",
    "saruman_wins = []\n",
    "\n",
    "for i in range(0,len(gandalf)):\n",
    "  if (gandalf[i] > saruman[i]):\n",
    "    gandalf_wins.append(1)\n",
    "    saruman_wins.append(0)\n",
    "  elif (gandalf[i] < saruman[i]):\n",
    "    gandalf_wins.append(0)\n",
    "    saruman_wins.append(1)\n",
    "  else:\n",
    "    gandalf_wins.append(0)\n",
    "    saruman_wins.append(0)\n",
    "\n",
    "if (sum(gandalf_wins) > sum(saruman_wins)):\n",
    "  print (\"Gandalf wins\")\n",
    "elif (sum(gandalf_wins) < sum(saruman_wins)):\n",
    "  print (\"Saruman wins\")\n",
    "else:\n",
    "  print (\"Tie\")\n",
    "\n",
    "#print (gandalf_wins)\n",
    "#print (saruman_wins)"
   ]
  },
  {
   "cell_type": "code",
   "execution_count": null,
   "metadata": {},
   "outputs": [],
   "source": []
  },
  {
   "cell_type": "code",
   "execution_count": null,
   "metadata": {},
   "outputs": [],
   "source": []
  }
 ],
 "metadata": {
  "kernelspec": {
   "display_name": "Python 3",
   "language": "python",
   "name": "python3"
  },
  "language_info": {
   "codemirror_mode": {
    "name": "ipython",
    "version": 3
   },
   "file_extension": ".py",
   "mimetype": "text/x-python",
   "name": "python",
   "nbconvert_exporter": "python",
   "pygments_lexer": "ipython3",
   "version": "3.7.4"
  }
 },
 "nbformat": 4,
 "nbformat_minor": 2
}
