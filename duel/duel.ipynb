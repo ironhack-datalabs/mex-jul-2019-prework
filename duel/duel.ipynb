{
 "cells": [
  {
   "cell_type": "markdown",
   "metadata": {},
   "source": [
    "# Duel of sorcerers\n",
    "You are witnessing an epic battle between two powerful sorcerers: Gandalf and Saruman. Each sorcerer has 10 spells of variable power in their mind and they are going to throw them one after the other. The winner of the duel will be the one who wins more of those clashes between spells. Spells are represented as a list of 10 integers whose value equals the power of the spell.\n",
    "```\n",
    "gandalf = [10, 11, 13, 30, 22, 11, 10, 33, 22, 22]\n",
    "saruman = [23, 66, 12, 43, 12, 10, 44, 23, 12, 17]\n",
    "```\n",
    "For example:\n",
    "1. The first clash is won by Saruman: 10 against 23, wins 23\n",
    "2. The second clash wins Saruman: 11 against 66, wins 66\n",
    "3. etc.\n",
    "\n",
    "\n",
    "You will create two variables, one for each sorcerer, where the sum of clashes won will be stored. Depending on which variable is greater at the end of the duel, you will show one of the following three results on the screen:\n",
    "* Gandalf wins\n",
    "* Saruman wins\n",
    "* Tie\n",
    "\n",
    "<img src=\"images/content_lightning_bolt_big.jpg\" width=\"400\">"
   ]
  },
  {
   "cell_type": "markdown",
   "metadata": {},
   "source": [
    "## Solution"
   ]
  },
  {
   "cell_type": "code",
   "execution_count": 1,
   "metadata": {},
   "outputs": [],
   "source": [
    "# Assign spell power lists to variables\n",
    "\n",
    "gandalf = [10, 11, 13, 30, 22, 11, 10, 33, 22, 22]\n",
    "saruman = [23, 66, 12, 43, 12, 10, 44, 23, 12, 17]"
   ]
  },
  {
   "cell_type": "code",
   "execution_count": 2,
   "metadata": {},
   "outputs": [],
   "source": [
    "# Assign 0 to each variable that stores the victories\n",
    "gandalf_won = 0\n",
    "saruman_won = 0\n",
    "draw = 0\n",
    "clash = 0\n"
   ]
  },
  {
   "cell_type": "code",
   "execution_count": 3,
   "metadata": {},
   "outputs": [
    {
     "name": "stdout",
     "output_type": "stream",
     "text": [
      "Clash: 1  ¡Saruman Wins! 10 against 23\n",
      "Clash: 2  ¡Saruman Wins! 11 against 66\n",
      "Clash: 3  ¡Gandalf Wins! 13 against 12\n",
      "Clash: 4  ¡Saruman Wins! 30 against 43\n",
      "Clash: 5  ¡Gandalf Wins! 22 against 12\n",
      "Clash: 6  ¡Gandalf Wins! 11 against 10\n",
      "Clash: 7  ¡Saruman Wins! 10 against 44\n",
      "Clash: 8  ¡Gandalf Wins! 33 against 23\n",
      "Clash: 9  ¡Gandalf Wins! 22 against 12\n",
      "Clash: 10  ¡Gandalf Wins! 22 against 17\n"
     ]
    }
   ],
   "source": [
    "# Execution of spell clashes\n",
    "for x in range(len(gandalf)):\n",
    "    clash = clash +1\n",
    "    if gandalf[x] == saruman[x]:\n",
    "        draw = draw + 1\n",
    "        print(\"Clash:\",clash,\" is a Tie\", gandalf[x], \"against \", saruman[x])\n",
    "    elif gandalf[x] >= saruman[x]:\n",
    "        gandalf_won = gandalf_won + 1\n",
    "        print(\"Clash:\",clash,\" ¡Gandalf Wins!\", gandalf[x], \"against\", saruman[x])\n",
    "    else:\n",
    "        saruman_won = saruman_won +1\n",
    "        print(\"Clash:\",clash,\" ¡Saruman Wins!\", gandalf[x], \"against\", saruman[x])\n"
   ]
  },
  {
   "cell_type": "code",
   "execution_count": 4,
   "metadata": {},
   "outputs": [
    {
     "name": "stdout",
     "output_type": "stream",
     "text": [
      "Ataques Gandalf:  6\n",
      "Ataques Saruman:  4\n",
      "Tie: 0\n",
      "Total de Combates: 10\n",
      "RESULTADO COMBATE: ¡Gandalf ha derrotado a Saruman!\n"
     ]
    }
   ],
   "source": [
    "# We check who has won, do not forget the possibility of a draw.\n",
    "# Print the result based on the winner.\n",
    "print(\"Ataques Gandalf: \", gandalf_won)\n",
    "print(\"Ataques Saruman: \", saruman_won)\n",
    "print(\"Tie:\", draw)\n",
    "print(\"Total de Combates:\", gandalf_won+saruman_won+draw)\n",
    "print(\"RESULTADO COMBATE:\",\"¡Gandalf ha derrotado a Saruman!\" if gandalf_won>saruman_won and gandalf_won>draw else \"¡Saruman a derrotado a Gandalf!\" )\n",
    "\n",
    "\n"
   ]
  },
  {
   "cell_type": "markdown",
   "metadata": {},
   "source": [
    "## Goals\n",
    "\n",
    "1. Treatment of lists\n",
    "2. Use of **for loop**\n",
    "3. Use of conditional **if-elif-else**\n",
    "4. Use of the functions **range(), len()**\n",
    "5. Print"
   ]
  },
  {
   "cell_type": "markdown",
   "metadata": {},
   "source": [
    "## Bonus\n",
    "\n",
    "1. Spells now have a name and there is a dictionary that relates that name to a power.\n",
    "2. A sorcerer wins if he succeeds in winning 3 spell clashes in a row.\n",
    "3. Average of each of the spell lists.\n",
    "4. Standard deviation of each of the spell lists.\n",
    "\n",
    "```\n",
    "POWER = {\n",
    "    'Fireball': 50, \n",
    "    'Lightning bolt': 40, \n",
    "    'Magic arrow': 10, \n",
    "    'Black Tentacles': 25, \n",
    "    'Contagion': 45\n",
    "}\n",
    "\n",
    "gandalf = ['Fireball', 'Lightning bolt', 'Lightning bolt', 'Magic arrow', 'Fireball', \n",
    "           'Magic arrow', 'Lightning bolt', 'Fireball', 'Fireball', 'Fireball']\n",
    "saruman = ['Contagion', 'Contagion', 'Black Tentacles', 'Fireball', 'Black Tentacles', \n",
    "           'Lightning bolt', 'Magic arrow', 'Contagion', 'Magic arrow', 'Magic arrow']\n",
    "```\n",
    "\n",
    "Good luck!"
   ]
  },
  {
   "cell_type": "code",
   "execution_count": 5,
   "metadata": {},
   "outputs": [],
   "source": [
    "# 1. Spells now have a name and there is a dictionary that relates that name to a power.\n",
    "# variables\n",
    "import numpy as np\n",
    "POWER = {\n",
    "    'Fireball': 50, \n",
    "    'Lightning bolt': 40, \n",
    "    'Magic arrow': 10, \n",
    "    'Black Tentacles': 25, \n",
    "    'Contagion': 45\n",
    "}\n",
    "\n",
    "gandalf = ['Fireball', 'Lightning bolt', 'Lightning bolt', 'Magic arrow', 'Fireball', \n",
    "           'Magic arrow', 'Lightning bolt', 'Fireball', 'Magic arrow', 'Fireball']\n",
    "saruman = ['Contagion', 'Contagion', 'Black Tentacles', 'Fireball', 'Black Tentacles', \n",
    "           'Lightning bolt', 'Magic arrow', 'Contagion', 'Magic arrow', 'Magic arrow']"
   ]
  },
  {
   "cell_type": "code",
   "execution_count": 6,
   "metadata": {},
   "outputs": [
    {
     "name": "stdout",
     "output_type": "stream",
     "text": [
      "50 40 10 25 45\n"
     ]
    }
   ],
   "source": [
    "# Assign spell power lists to variables\n",
    "fireBall = POWER.get(\"Fireball\")\n",
    "lbolt = POWER.get(\"Lightning bolt\")\n",
    "marrow = POWER.get(\"Magic arrow\")\n",
    "btentacles = POWER.get(\"Black Tentacles\")\n",
    "contagion = POWER.get(\"Contagion\")\n",
    "print( fireBall,lbolt,marrow,btentacles,contagion)\n",
    "\n",
    "#Otras variables usadas\n",
    "clash = 0\n",
    "gandalf_won = 0\n",
    "saruman_won = 0\n",
    "tie = 0\n",
    "gandalf_vals = []\n",
    "saruman_vals = []\n",
    "\n"
   ]
  },
  {
   "cell_type": "code",
   "execution_count": 7,
   "metadata": {},
   "outputs": [
    {
     "name": "stdout",
     "output_type": "stream",
     "text": [
      "Clash: 1 Gandalf Wins! [ Fireball 50 ] against [ Contagion 45 ]\n",
      "Clash: 2 Saruman Wins! [ Contagion 45 ] against [ Lightning bolt 40 ]\n",
      "Clash: 3 Gandalf Wins! [ Lightning bolt 40 ] against [ Black Tentacles 25 ]\n",
      "Clash: 4 Saruman Wins! [ Fireball 50 ] against [ Magic arrow 10 ]\n",
      "Clash: 5 Gandalf Wins! [ Fireball 50 ] against [ Black Tentacles 25 ]\n",
      "Clash: 6 Saruman Wins! [ Lightning bolt 40 ] against [ Magic arrow 10 ]\n",
      "Clash: 7 Gandalf Wins! [ Lightning bolt 40 ] against [ Magic arrow 10 ]\n",
      "Clash: 8 Gandalf Wins! [ Fireball 50 ] against [ Contagion 45 ]\n",
      "Clash: 9 It's a Tie! [ Magic arrow 10 ] against [ Magic arrow 10 ]\n",
      "Clash: 10 Gandalf Wins! [ Fireball 50 ] against [ Magic arrow 10 ]\n",
      "Ataques Gandalf:  6\n",
      "Ataques Saruman:  3\n",
      "Empates: 1\n",
      "Total de Combates: 10\n",
      "RESULTADO COMBATE: ¡Gandalf ha derrotado a Saruman!\n"
     ]
    }
   ],
   "source": [
    "# 2. A sorcerer wins if he succeeds in winning 3 spell clashes in a row.\n",
    "# Execution of spell clashes\n",
    "# check for 3 wins in a row\n",
    "# check the winner\n",
    "for x in range(len(gandalf)):\n",
    "    clash = clash+1\n",
    "    if gandalf_won - saruman_won >= 3:\n",
    "        print(\"Gangalf WON 3 in a row\")\n",
    "        break\n",
    "    if saruman_won - gandalf_won >= 3:\n",
    "        print(\"Saruman WON 3 in a row\")\n",
    "        break\n",
    "    if POWER.get(gandalf[x]) == POWER.get(saruman[x]):\n",
    "        tie = tie + 1\n",
    "        print(\"Clash:\", clash,\"It's a Tie!\", \"[\",gandalf[x],POWER.get(gandalf[x]),\"]\",\"against\", \"[\",saruman[x], POWER.get(saruman[x]),\"]\")\n",
    "    elif POWER.get(gandalf[x]) > POWER.get(saruman[x]):\n",
    "        print(\"Clash:\", clash, \"Gandalf Wins!\",\"[\" ,gandalf[x], POWER.get(gandalf[x]),\"]\", \"against\", \"[\",saruman[x], POWER.get(saruman[x]),\"]\")\n",
    "        gandalf_won = gandalf_won + 1\n",
    "    elif POWER.get(saruman[x]) > POWER.get(gandalf[x]):\n",
    "        print(\"Clash:\", clash, \"Saruman Wins!\", \"[\",saruman[x], POWER.get(saruman[x]),\"]\", \"against\", \"[\",gandalf[x], POWER.get(gandalf[x]),\"]\")\n",
    "        saruman_won = saruman_won + 1\n",
    "    else:\n",
    "        print(\"Algo anda mal.\")\n",
    "        \n",
    "print(\"Ataques Gandalf: \", gandalf_won)\n",
    "print(\"Ataques Saruman: \", saruman_won)\n",
    "print(\"Empates:\", tie)\n",
    "print(\"Total de Combates:\", gandalf_won+saruman_won+tie)\n",
    "print(\"RESULTADO COMBATE:\",\"¡Gandalf ha derrotado a Saruman!\" if gandalf_won>saruman_won and gandalf_won>tie else \"¡Saruman a derrotado a Gandalf!\" )\n",
    "\n",
    "\n"
   ]
  },
  {
   "cell_type": "code",
   "execution_count": 8,
   "metadata": {},
   "outputs": [
    {
     "name": "stdout",
     "output_type": "stream",
     "text": [
      "[50, 40, 40, 10, 50, 10, 40, 50, 10, 50]\n",
      "El promedio de todos los ataques de Gandalf es:  35.0\n",
      "--------------------------------------------------\n",
      "[45, 45, 25, 50, 25, 40, 10, 45, 10, 10]\n",
      "El promedio de todos los ataques de Saruman es:  30.5\n"
     ]
    }
   ],
   "source": [
    "# 3. Average of each of the spell lists.\n",
    "for y in range(len(gandalf)):\n",
    "    gandalf_vals.append(POWER.get(gandalf[y]))\n",
    "for z in range(len(saruman)):\n",
    "    saruman_vals.append(POWER.get(saruman[z]))\n",
    "    \n",
    "print(gandalf_vals)\n",
    "print(\"El promedio de todos los ataques de Gandalf es: \",np.average(gandalf_vals))\n",
    "\n",
    "print(\"--------------------------------------------------\")\n",
    "print(saruman_vals)\n",
    "print(\"El promedio de todos los ataques de Saruman es: \",np.average(saruman_vals))\n",
    "\n",
    "\n"
   ]
  },
  {
   "cell_type": "code",
   "execution_count": 9,
   "metadata": {},
   "outputs": [
    {
     "name": "stdout",
     "output_type": "stream",
     "text": [
      "[50, 40, 40, 10, 50, 10, 40, 50, 10, 50]\n",
      "La desviación standar de todos los ataques de Gandalf:  16.881943016134134\n",
      "--------------------------------------------------\n",
      "[45, 45, 25, 50, 25, 40, 10, 45, 10, 10]\n",
      "La desviación standar de todos los ataques de Saruman:  15.56438241627338\n"
     ]
    }
   ],
   "source": [
    "# 4. Standard deviation of each of the spell lists.\n",
    "print(gandalf_vals)\n",
    "\n",
    "print(\"La desviación standar de todos los ataques de Gandalf: \",np.std(gandalf_vals))\n",
    "print(\"--------------------------------------------------\")\n",
    "print(saruman_vals)\n",
    "\n",
    "print(\"La desviación standar de todos los ataques de Saruman: \",np.std(saruman_vals))\n"
   ]
  },
  {
   "cell_type": "code",
   "execution_count": null,
   "metadata": {},
   "outputs": [],
   "source": []
  }
 ],
 "metadata": {
  "kernelspec": {
   "display_name": "Python 3",
   "language": "python",
   "name": "python3"
  },
  "language_info": {
   "codemirror_mode": {
    "name": "ipython",
    "version": 3
   },
   "file_extension": ".py",
   "mimetype": "text/x-python",
   "name": "python",
   "nbconvert_exporter": "python",
   "pygments_lexer": "ipython3",
   "version": "3.7.3"
  }
 },
 "nbformat": 4,
 "nbformat_minor": 2
}
