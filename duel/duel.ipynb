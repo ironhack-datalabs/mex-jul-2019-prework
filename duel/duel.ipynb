{
 "cells": [
  {
   "cell_type": "markdown",
   "metadata": {},
   "source": [
    "# Duel of sorcerers\n",
    "You are witnessing an epic battle between two powerful sorcerers: Gandalf and Saruman. Each sorcerer has 10 spells of variable power in their mind and they are going to throw them one after the other. The winner of the duel will be the one who wins more of those clashes between spells. Spells are represented as a list of 10 integers whose value equals the power of the spell.\n",
    "```\n",
    "gandalf = [10, 11, 13, 30, 22, 11, 10, 33, 22, 22]\n",
    "saruman = [23, 66, 12, 43, 12, 10, 44, 23, 12, 17]\n",
    "```\n",
    "For example:\n",
    "1. The first clash is won by Saruman: 10 against 23, wins 23\n",
    "2. The second clash wins Saruman: 11 against 66, wins 66\n",
    "3. etc.\n",
    "\n",
    "\n",
    "You will create two variables, one for each sorcerer, where the sum of clashes won will be stored. Depending on which variable is greater at the end of the duel, you will show one of the following three results on the screen:\n",
    "* Gandalf wins\n",
    "* Saruman wins\n",
    "* Tie\n",
    "\n",
    "<img src=\"images/content_lightning_bolt_big.jpg\" width=\"400\">"
   ]
  },
  {
   "cell_type": "markdown",
   "metadata": {},
   "source": [
    "## Solution"
   ]
  },
  {
   "cell_type": "code",
   "execution_count": 3,
   "metadata": {},
   "outputs": [],
   "source": [
    "# Assign spell power lists to variables\n",
    "\n",
    "gandalf = [10, 11, 13, 30, 22, 11, 10, 33, 22, 22]\n",
    "saruman = [23, 66, 12, 43, 12, 10, 44, 23, 12, 17]"
   ]
  },
  {
   "cell_type": "code",
   "execution_count": 78,
   "metadata": {},
   "outputs": [],
   "source": [
    "# Assign 0 to each variable that stores the victories"
   ]
  },
  {
   "cell_type": "code",
   "execution_count": 4,
   "metadata": {},
   "outputs": [],
   "source": [
    "# Execution of spell clashes\n",
    "def clash_winner(player1_spells, player2_spells, player1_name='Player 1', player2_name='Player 2'):\n",
    "    #los primero argumentos son los spells de jugadores 1 y 2 seguidos de sus nombres (1y 2 en ese orden)\n",
    "    #La funcion debera recibir nombres de jugadores 1 y 2 o por default toma Player 1 y Player 2\n",
    "    \n",
    "    player1_wins , player2_wins , draws = 0, 0, 0\n",
    "    \n",
    "    for clash in range(len(player1_spells)):\n",
    "        if player1_spells[clash] > player2_spells[clash]: player1_wins+=1\n",
    "        elif player1_spells[clash] < player2_spells[clash]: player2_wins+=1\n",
    "        else: draws+=1\n",
    "    \n",
    "    if player1_wins > player2_wins: return \"{} gana con {} victorias y {} empates.\".format(player1_name,\n",
    "                                                                                           player1_wins, \n",
    "                                                                                           draws)\n",
    "    elif player1_wins < player2_wins: return \"{} gana con {} victorias y {} empates.\".format(player2_name,\n",
    "                                                                                             player2_wins, \n",
    "                                                                                             draws)\n",
    "    else: return \"{} y {} empatan en todos los clashes ({}).\".format(player1_name, player2_name, draws)"
   ]
  },
  {
   "cell_type": "code",
   "execution_count": 5,
   "metadata": {},
   "outputs": [
    {
     "data": {
      "text/plain": [
       "'Gandalf gana con 6 victorias y 0 empates.'"
      ]
     },
     "execution_count": 5,
     "metadata": {},
     "output_type": "execute_result"
    }
   ],
   "source": [
    "# We check who has won, do not forget the possibility of a draw.\n",
    "# Print the result based on the winner.\n",
    "\n",
    "clash_winner(gandalf, saruman, \"Gandalf\", \"Saruman\")\n"
   ]
  },
  {
   "cell_type": "markdown",
   "metadata": {},
   "source": [
    "## Goals\n",
    "\n",
    "1. Treatment of lists\n",
    "2. Use of **for loop**\n",
    "3. Use of conditional **if-elif-else**\n",
    "4. Use of the functions **range(), len()**\n",
    "5. Print"
   ]
  },
  {
   "cell_type": "markdown",
   "metadata": {},
   "source": [
    "## Bonus\n",
    "\n",
    "1. Spells now have a name and there is a dictionary that relates that name to a power.\n",
    "2. A sorcerer wins if he succeeds in winning 3 spell clashes in a row.\n",
    "3. Average of each of the spell lists.\n",
    "4. Standard deviation of each of the spell lists.\n",
    "\n",
    "```\n",
    "POWER = {\n",
    "    'Fireball': 50, \n",
    "    'Lightning bolt': 40, \n",
    "    'Magic arrow': 10, \n",
    "    'Black Tentacles': 25, \n",
    "    'Contagion': 45\n",
    "}\n",
    "\n",
    "gandalf = ['Fireball', 'Lightning bolt', 'Lightning bolt', 'Magic arrow', 'Fireball', \n",
    "           'Magic arrow', 'Lightning bolt', 'Fireball', 'Fireball', 'Fireball']\n",
    "saruman = ['Contagion', 'Contagion', 'Black Tentacles', 'Fireball', 'Black Tentacles', \n",
    "           'Lightning bolt', 'Magic arrow', 'Contagion', 'Magic arrow', 'Magic arrow']\n",
    "```\n",
    "\n",
    "Good luck!"
   ]
  },
  {
   "cell_type": "code",
   "execution_count": 6,
   "metadata": {},
   "outputs": [],
   "source": [
    "# 1. Spells now have a name and there is a dictionary that relates that name to a power.\n",
    "# variables\n",
    "\n",
    "POWER = {\n",
    "    'Fireball': 50, \n",
    "    'Lightning bolt': 40, \n",
    "    'Magic arrow': 10, \n",
    "    'Black Tentacles': 25, \n",
    "    'Contagion': 45\n",
    "}\n",
    "\n",
    "gandalf = ['Fireball', 'Lightning bolt', 'Lightning bolt', 'Magic arrow', 'Fireball', \n",
    "           'Magic arrow', 'Lightning bolt', 'Fireball', 'Magic arrow', 'Fireball']\n",
    "saruman = ['Contagion', 'Contagion', 'Black Tentacles', 'Fireball', 'Black Tentacles', \n",
    "           'Lightning bolt', 'Magic arrow', 'Contagion', 'Magic arrow', 'Magic arrow']"
   ]
  },
  {
   "cell_type": "code",
   "execution_count": 7,
   "metadata": {},
   "outputs": [],
   "source": [
    "# Assign spell power lists to variables\n",
    "def spell_powers_to_variables(player):\n",
    "    i = 0\n",
    "    for s in player:\n",
    "        player[i] = POWER[s]\n",
    "        i+=1\n",
    "    return player\n",
    "            \n",
    "    \n",
    "        \n",
    "    \n",
    "#spell_powers_to_variables(gandalf)"
   ]
  },
  {
   "cell_type": "code",
   "execution_count": 8,
   "metadata": {},
   "outputs": [
    {
     "name": "stdout",
     "output_type": "stream",
     "text": [
      "Gandalf = [50, 40, 40, 10, 50, 10, 40, 50, 10, 50] \n",
      "Saruman = [45, 45, 25, 50, 25, 40, 10, 45, 10, 10]\n"
     ]
    }
   ],
   "source": [
    "print(\"Gandalf = {} \".format(spell_powers_to_variables(gandalf)))\n",
    "print(\"Saruman = {}\".format(spell_powers_to_variables(saruman)))"
   ]
  },
  {
   "cell_type": "code",
   "execution_count": 16,
   "metadata": {},
   "outputs": [
    {
     "name": "stdout",
     "output_type": "stream",
     "text": [
      "Gandalf wins with 6 victories out of 10 clashes\n"
     ]
    }
   ],
   "source": [
    "# 2. A sorcerer wins if he succeeds in winning 3 spell clashes in a row.\n",
    "\n",
    "# Execution of spell clashes\n",
    "\n",
    "gandalf_wins , saruman_wins , draws = 0, 0, 0\n",
    "g,s = 0, 0\n",
    "\n",
    "for clash in range(len(gandalf)):\n",
    "    if g == 3: # check for 3 wins in a row\n",
    "        print(\"Gandalf wins 3 in a row\")\n",
    "        break\n",
    "    elif s == 3: # check for 3 wins in a row\n",
    "        print(\"Saruman wins 3 in a row\")\n",
    "        break\n",
    "    else:\n",
    "        if gandalf[clash] > saruman[clash]:\n",
    "            gandalf_wins+=1\n",
    "            s = 0\n",
    "            g+=1\n",
    "        elif gandalf[clash] < saruman[clash]:\n",
    "            saruman_wins+=1\n",
    "            g = 0\n",
    "            s+=1\n",
    "        else: \n",
    "            draws+=1\n",
    "            g,s = 0,0\n",
    "            \n",
    "if gandalf_wins > saruman_wins: print('Gandalf wins with {} victories out of {} clashes'.format(gandalf_wins,len(gandalf)))\n",
    "elif gandalf_wins < saruman_wins: print('Saruman wins with {} victories out of {} clashes'.format(saruman_wins,len(gandalf)))\n",
    "else: print('Draws everywhere!')\n",
    "\n",
    "\n",
    "# check the winner\n"
   ]
  },
  {
   "cell_type": "code",
   "execution_count": 10,
   "metadata": {},
   "outputs": [
    {
     "data": {
      "text/plain": [
       "(6, 3, 1)"
      ]
     },
     "execution_count": 10,
     "metadata": {},
     "output_type": "execute_result"
    }
   ],
   "source": [
    "gandalf_wins , saruman_wins , draws"
   ]
  },
  {
   "cell_type": "code",
   "execution_count": 15,
   "metadata": {},
   "outputs": [
    {
     "name": "stdout",
     "output_type": "stream",
     "text": [
      "Promedio del poder de los spells de Gandalf 35.0\n",
      "Promedio del poder de los spells de Saruman 30.5\n"
     ]
    }
   ],
   "source": [
    "# 3. Average of each of the spell lists.\n",
    "average_gandalf = sum(gandalf)/len(gandalf)\n",
    "average_saruman = sum(saruman)/len(saruman)\n",
    "\n",
    "print(\"Promedio del poder de los spells de Gandalf\",average_gandalf)\n",
    "print(\"Promedio del poder de los spells de Saruman\",average_saruman)"
   ]
  },
  {
   "cell_type": "code",
   "execution_count": 12,
   "metadata": {},
   "outputs": [
    {
     "name": "stdout",
     "output_type": "stream",
     "text": [
      "Standard deviation de los spells de Gandalf 17.795\n",
      "Standard deviation de los spells de Saruman 16.406\n"
     ]
    }
   ],
   "source": [
    "# 4. Standard deviation of each of the spell lists.\n",
    "import statistics as st\n",
    "\n",
    "print(\"Standard deviation de los spells de Gandalf\", round(st.stdev(gandalf),3))\n",
    "print(\"Standard deviation de los spells de Saruman\",round(st.stdev(saruman),3))"
   ]
  }
 ],
 "metadata": {
  "kernelspec": {
   "display_name": "Python 3",
   "language": "python",
   "name": "python3"
  },
  "language_info": {
   "codemirror_mode": {
    "name": "ipython",
    "version": 3
   },
   "file_extension": ".py",
   "mimetype": "text/x-python",
   "name": "python",
   "nbconvert_exporter": "python",
   "pygments_lexer": "ipython3",
   "version": "3.7.3"
  }
 },
 "nbformat": 4,
 "nbformat_minor": 2
}
