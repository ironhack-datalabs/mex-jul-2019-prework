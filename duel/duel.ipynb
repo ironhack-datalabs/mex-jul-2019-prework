{
 "cells": [
  {
   "cell_type": "markdown",
   "metadata": {},
   "source": [
    "# Duel of sorcerers\n",
    "You are witnessing an epic battle between two powerful sorcerers: Gandalf and Saruman. Each sorcerer has 10 spells of variable power in their mind and they are going to throw them one after the other. The winner of the duel will be the one who wins more of those clashes between spells. Spells are represented as a list of 10 integers whose value equals the power of the spell.\n",
    "```\n",
    "gandalf = [10, 11, 13, 30, 22, 11, 10, 33, 22, 22]\n",
    "saruman = [23, 66, 12, 43, 12, 10, 44, 23, 12, 17]\n",
    "```\n",
    "For example:\n",
    "1. The first clash is won by Saruman: 10 against 23, wins 23\n",
    "2. The second clash wins Saruman: 11 against 66, wins 66\n",
    "3. etc.\n",
    "\n",
    "\n",
    "You will create two variables, one for each sorcerer, where the sum of clashes won will be stored. Depending on which variable is greater at the end of the duel, you will show one of the following three results on the screen:\n",
    "* Gandalf wins\n",
    "* Saruman wins\n",
    "* Tie\n",
    "\n",
    "<img src=\"images/content_lightning_bolt_big.jpg\" width=\"400\">"
   ]
  },
  {
   "cell_type": "markdown",
   "metadata": {},
   "source": [
    "## Solution"
   ]
  },
  {
   "cell_type": "code",
   "execution_count": 1,
   "metadata": {},
   "outputs": [],
   "source": [
    "# Assign spell power lists to variables\n",
    "\n",
    "gandalf = [10, 11, 13, 30, 22, 11, 10, 33, 22, 22]\n",
    "saruman = [23, 66, 12, 43, 12, 10, 44, 23, 12, 17]"
   ]
  },
  {
   "cell_type": "code",
   "execution_count": 2,
   "metadata": {},
   "outputs": [],
   "source": [
    "# Assign 0 to each variable that stores the victories\n"
   ]
  },
  {
   "cell_type": "code",
   "execution_count": 3,
   "metadata": {},
   "outputs": [],
   "source": [
    "# Execution of spell clashes\n"
   ]
  },
  {
   "cell_type": "code",
   "execution_count": 4,
   "metadata": {},
   "outputs": [],
   "source": [
    "# We check who has won, do not forget the possibility of a draw.\n",
    "# Print the result based on the winner.\n",
    "\n"
   ]
  },
  {
   "cell_type": "markdown",
   "metadata": {},
   "source": [
    "## Goals\n",
    "\n",
    "1. Treatment of lists\n",
    "2. Use of **for loop**\n",
    "3. Use of conditional **if-elif-else**\n",
    "4. Use of the functions **range(), len()**\n",
    "5. Print"
   ]
  },
  {
   "cell_type": "markdown",
   "metadata": {},
   "source": [
    "## Bonus\n",
    "\n",
    "1. Spells now have a name and there is a dictionary that relates that name to a power.\n",
    "2. A sorcerer wins if he succeeds in winning 3 spell clashes in a row.\n",
    "3. Average of each of the spell lists.\n",
    "4. Standard deviation of each of the spell lists.\n",
    "\n",
    "```\n",
    "POWER = {\n",
    "    'Fireball': 50, \n",
    "    'Lightning bolt': 40, \n",
    "    'Magic arrow': 10, \n",
    "    'Black Tentacles': 25, \n",
    "    'Contagion': 45\n",
    "}\n",
    "\n",
    "gandalf = ['Fireball', 'Lightning bolt', 'Lightning bolt', 'Magic arrow', 'Fireball', \n",
    "           'Magic arrow', 'Lightning bolt', 'Fireball', 'Fireball', 'Fireball']\n",
    "saruman = ['Contagion', 'Contagion', 'Black Tentacles', 'Fireball', 'Black Tentacles', \n",
    "           'Lightning bolt', 'Magic arrow', 'Contagion', 'Magic arrow', 'Magic arrow']\n",
    "```\n",
    "\n",
    "Good luck!"
   ]
  },
  {
   "cell_type": "code",
   "execution_count": 5,
   "metadata": {},
   "outputs": [],
   "source": [
    "# 1. Spells now have a name and there is a dictionary that relates that name to a power.\n",
    "# variables\n",
    "\n",
    "POWER = {\n",
    "    'Fireball': 50, \n",
    "    'Lightning bolt': 40, \n",
    "    'Magic arrow': 10, \n",
    "    'Black Tentacles': 25, \n",
    "    'Contagion': 45\n",
    "}\n",
    "\n",
    "gandalf = ['Fireball', 'Lightning bolt', 'Lightning bolt', 'Magic arrow', 'Fireball', \n",
    "           'Magic arrow', 'Lightning bolt', 'Fireball', 'Magic arrow', 'Fireball']\n",
    "saruman = ['Contagion', 'Contagion', 'Black Tentacles', 'Fireball', 'Black Tentacles', \n",
    "           'Lightning bolt', 'Magic arrow', 'Contagion', 'Magic arrow', 'Magic arrow']"
   ]
  },
  {
   "cell_type": "code",
   "execution_count": 6,
   "metadata": {},
   "outputs": [],
   "source": [
    "# Assign spell power lists to variables\n",
    "\n"
   ]
  },
  {
   "cell_type": "code",
   "execution_count": 7,
   "metadata": {},
   "outputs": [],
   "source": [
    "# 2. A sorcerer wins if he succeeds in winning 3 spell clashes in a row.\n",
    "\n",
    "\n",
    "# Execution of spell clashes\n",
    "\n",
    "\n",
    "\n",
    "# check for 3 wins in a row\n",
    "\n",
    "\n",
    "# check the winner\n"
   ]
  },
  {
   "cell_type": "code",
   "execution_count": 8,
   "metadata": {},
   "outputs": [],
   "source": [
    "# 3. Average of each of the spell lists.\n",
    "\n"
   ]
  },
  {
   "cell_type": "code",
   "execution_count": 9,
   "metadata": {},
   "outputs": [],
   "source": [
    "# 4. Standard deviation of each of the spell lists.\n",
    "\n"
   ]
  },
  {
   "cell_type": "code",
   "execution_count": 1,
   "metadata": {},
   "outputs": [
    {
     "name": "stdout",
     "output_type": "stream",
     "text": [
      "Gandalf Gana\n",
      "['G', 'S', 'G', 'S', 'G', 'S', 'G', 'G', 'E', 'G']\n",
      "Ningún hechicero ganó 3 veces seguidas, asi que se cuenta el total de victorias para designar al ganador:\n",
      "Gana Gandalf\n",
      "Promedio de poderes Gandalf =  35.0\n",
      "Promedio de poderes Saruman =  30.5\n",
      "Desviacion Estándar Gandalf =  16.881943016134134\n",
      "Desviacion Estándar Saruman =  15.56438241627338\n"
     ]
    }
   ],
   "source": [
    "#Duel\n",
    "gandalf = [10, 11, 13, 30, 22, 11, 10, 33, 22, 22]\n",
    "saruman = [23, 66, 12, 43, 12, 10, 44, 23, 12, 17]\n",
    "\n",
    "victoriasGandalf = 0\n",
    "victoriasSaruman = 0\n",
    "\n",
    "for i in range (len(gandalf)):\n",
    "    if(gandalf[i] < saruman[i]):\n",
    "        victoriasSaruman += 1\n",
    "    elif(gandalf[i] > saruman[i]):\n",
    "        victoriasGandalf += 1\n",
    "    else:\n",
    "        victoriasSaruman += 0\n",
    "        victoriasGandalf += 0\n",
    "\n",
    "if (victoriasGandalf > victoriasSaruman):\n",
    "    print(\"Gandalf Gana\")\n",
    "elif (victoriasGandalf < victoriasSaruman):\n",
    "    print(\"Saruman Gana\")\n",
    "else:\n",
    "    print(\"Empate\")\n",
    "\n",
    "#Bonus\n",
    "POWER = {\n",
    "    'Fireball': 50,\n",
    "    'Lightning bolt': 40,\n",
    "    'Magic arrow': 10,\n",
    "    'Black Tentacles': 25,\n",
    "    'Contagion': 45\n",
    "}\n",
    "\n",
    "gandalf = ['Fireball', 'Lightning bolt', 'Lightning bolt', 'Magic arrow', 'Fireball',\n",
    "           'Magic arrow', 'Lightning bolt', 'Fireball', 'Magic arrow', 'Fireball']\n",
    "saruman = ['Contagion', 'Contagion', 'Black Tentacles', 'Fireball', 'Black Tentacles',\n",
    "           'Lightning bolt', 'Magic arrow', 'Contagion', 'Magic arrow', 'Magic arrow']\n",
    "victorias = []\n",
    "victoriasSaruman = 0\n",
    "victoriasGandalf = 0\n",
    "totalSaruman = 0\n",
    "totalGandalf = 0\n",
    "duelo = 0\n",
    "noHayGanador = True\n",
    "valoresGandalf = []\n",
    "valoresSaruman = []\n",
    "sumaCuadradaG = 0\n",
    "sumaCuadradaS = 0\n",
    "\n",
    "for i in range(len(gandalf)):\n",
    "    if((victoriasGandalf != 3) & (victoriasSaruman != 3)):\n",
    "        if(POWER.get(gandalf[i]) > POWER.get(saruman[i])):\n",
    "            victorias.append(\"G\")\n",
    "            totalGandalf += 1\n",
    "            victoriasGandalf += 1\n",
    "            victoriasSaruman = 0\n",
    "        elif(POWER.get(gandalf[i]) < POWER.get(saruman[i])):\n",
    "            victorias.append(\"S\")\n",
    "            totalSaruman += 1\n",
    "            victoriasSaruman += 1\n",
    "            victoriasGandalf = 0\n",
    "        else:\n",
    "            victorias.append(\"E\")\n",
    "            victoriasSaruman = 0\n",
    "            victoriasGandalf = 0\n",
    "\n",
    "    elif(victoriasGandalf == 3):\n",
    "            noHayGanador = False\n",
    "            print(\"Gandalf Gana\")\n",
    "            break\n",
    "    elif(victoriasSaruman == 3):\n",
    "            noHayGanador = False\n",
    "            print(\"Sarauman Gana\")\n",
    "            break\n",
    "\n",
    "print(victorias)\n",
    "\n",
    "if(noHayGanador):\n",
    "    print(\"Ningún hechicero ganó 3 veces seguidas, asi que se cuenta el total de victorias para designar al ganador:\")\n",
    "    if(totalSaruman > totalGandalf):\n",
    "        print(\"Gana Saruman\")\n",
    "    elif (totalGandalf > totalSaruman):\n",
    "        print(\"Gana Gandalf\")\n",
    "    else:\n",
    "        print(\"Empate\")\n",
    "\n",
    "for hechizo in gandalf:\n",
    "    valoresGandalf.append(POWER.get(hechizo))\n",
    "\n",
    "for hechizo in saruman:\n",
    "    valoresSaruman.append(POWER.get(hechizo))\n",
    "\n",
    "mediaGandalf = sum(valoresGandalf)/len(valoresGandalf)\n",
    "mediaSaruman = sum(valoresSaruman)/len(valoresSaruman)\n",
    "\n",
    "for valor in valoresGandalf:\n",
    "    sumaCuadradaG += (valor - mediaGandalf)**2\n",
    "\n",
    "for valor in valoresSaruman:\n",
    "    sumaCuadradaS += (valor - mediaSaruman)**2\n",
    "\n",
    "print(\"Promedio de poderes Gandalf = \", mediaGandalf)\n",
    "print(\"Promedio de poderes Saruman = \", mediaSaruman)\n",
    "print(\"Desviacion Estándar Gandalf = \", ((sumaCuadradaG/len(valoresGandalf))**(1/2)))\n",
    "print(\"Desviacion Estándar Saruman = \", ((sumaCuadradaS/len(valoresSaruman))**(1/2)))\n"
   ]
  },
  {
   "cell_type": "code",
   "execution_count": null,
   "metadata": {},
   "outputs": [],
   "source": []
  }
 ],
 "metadata": {
  "kernelspec": {
   "display_name": "Python 3",
   "language": "python",
   "name": "python3"
  },
  "language_info": {
   "codemirror_mode": {
    "name": "ipython",
    "version": 3
   },
   "file_extension": ".py",
   "mimetype": "text/x-python",
   "name": "python",
   "nbconvert_exporter": "python",
   "pygments_lexer": "ipython3",
   "version": "3.7.0"
  }
 },
 "nbformat": 4,
 "nbformat_minor": 2
}
