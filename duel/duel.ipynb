{
 "cells": [
  {
   "cell_type": "markdown",
   "metadata": {},
   "source": [
    "# Duel of sorcerers\n",
    "You are witnessing an epic battle between two powerful sorcerers: Gandalf and Saruman. Each sorcerer has 10 spells of variable power in their mind and they are going to throw them one after the other. The winner of the duel will be the one who wins more of those clashes between spells. Spells are represented as a list of 10 integers whose value equals the power of the spell.\n",
    "```\n",
    "gandalf = [10, 11, 13, 30, 22, 11, 10, 33, 22, 22]\n",
    "saruman = [23, 66, 12, 43, 12, 10, 44, 23, 12, 17]\n",
    "```\n",
    "For example:\n",
    "1. The first clash is won by Saruman: 10 against 23, wins 23\n",
    "2. The second clash wins Saruman: 11 against 66, wins 66\n",
    "3. etc.\n",
    "\n",
    "\n",
    "You will create two variables, one for each sorcerer, where the sum of clashes won will be stored. Depending on which variable is greater at the end of the duel, you will show one of the following three results on the screen:\n",
    "* Gandalf wins\n",
    "* Saruman wins\n",
    "* Tie\n",
    "\n",
    "<img src=\"images/content_lightning_bolt_big.jpg\" width=\"400\">"
   ]
  },
  {
   "cell_type": "markdown",
   "metadata": {},
   "source": [
    "## Solution"
   ]
  },
  {
   "cell_type": "code",
   "execution_count": 2,
   "metadata": {},
   "outputs": [],
   "source": [
    "# Assign spell power lists to variables\n",
    "\n",
    "gandalf1 = [10, 11, 13, 30, 22, 11, 10, 33, 22, 22]\n",
    "saruman1 = [23, 66, 12, 43, 12, 10, 44, 23, 12, 17]"
   ]
  },
  {
   "cell_type": "code",
   "execution_count": 3,
   "metadata": {},
   "outputs": [],
   "source": [
    "# Assign 0 to each variable that stores the victories\n",
    "gandalf_wins = 0\n",
    "saruman_wins = 0"
   ]
  },
  {
   "cell_type": "code",
   "execution_count": 4,
   "metadata": {},
   "outputs": [],
   "source": [
    "# Execution of spell clashes\n",
    "'''\n",
    "1. First, I need to make sure that both lists have the same length for comparison.\n",
    "2. Compare elements of equal index i\n",
    "3. Establish conditions for each result of the comparison\n",
    "4. Add result of comparison to correspondent variable (counting power wins for each sorcerer)\n",
    "'''\n",
    "\n",
    "if len(gandalf1) == len(saruman1):\n",
    "    for i in range(0,len(saruman1)):\n",
    "        if gandalf1[i] > saruman1[i]:\n",
    "            gandalf_wins +=1\n",
    "        elif gandalf1[i] < saruman1[i]:\n",
    "            saruman_wins +=1\n",
    "        else:\n",
    "            continue "
   ]
  },
  {
   "cell_type": "code",
   "execution_count": 5,
   "metadata": {},
   "outputs": [
    {
     "name": "stdout",
     "output_type": "stream",
     "text": [
      "Gandalf won 6 times.\n",
      "Saruman won 4 times.\n",
      "The final result is: Galdalf wins! :)\n"
     ]
    }
   ],
   "source": [
    "# We check who has won, do not forget the possibility of a draw.\n",
    "# Print the result based on the winner.\n",
    "'''\n",
    "Now that I have the number of times each of them won a clash, I must compare to see who won:\n",
    "Establish conditions for comparison - different print if each of them is True.\n",
    "'''\n",
    "\n",
    "print(\"Gandalf won\", gandalf_wins, \"times.\")\n",
    "print(\"Saruman won\", saruman_wins, \"times.\")\n",
    "\n",
    "if gandalf_wins > saruman_wins:\n",
    "    print(\"The final result is: Galdalf wins! :)\")\n",
    "elif gandalf_wins < saruman_wins:\n",
    "    print(\"The final result is: Saruman wins... :P\")\n",
    "else:\n",
    "    print(\"The final result is: It's a tie, this is boring.\")"
   ]
  },
  {
   "cell_type": "markdown",
   "metadata": {},
   "source": [
    "## Goals\n",
    "\n",
    "1. Treatment of lists\n",
    "2. Use of **for loop**\n",
    "3. Use of conditional **if-elif-else**\n",
    "4. Use of the functions **range(), len()**\n",
    "5. Print"
   ]
  },
  {
   "cell_type": "markdown",
   "metadata": {},
   "source": [
    "## Bonus\n",
    "\n",
    "1. Spells now have a name and there is a dictionary that relates that name to a power.\n",
    "2. A sorcerer wins if he succeeds in winning 3 spell clashes in a row.\n",
    "3. Average of each of the spell lists.\n",
    "4. Standard deviation of each of the spell lists.\n",
    "\n",
    "```\n",
    "POWER = {\n",
    "    'Fireball': 50, \n",
    "    'Lightning bolt': 40, \n",
    "    'Magic arrow': 10, \n",
    "    'Black Tentacles': 25, \n",
    "    'Contagion': 45\n",
    "}\n",
    "\n",
    "gandalf = ['Fireball', 'Lightning bolt', 'Lightning bolt', 'Magic arrow', 'Fireball', \n",
    "           'Magic arrow', 'Lightning bolt', 'Fireball', 'Fireball', 'Fireball']\n",
    "saruman = ['Contagion', 'Contagion', 'Black Tentacles', 'Fireball', 'Black Tentacles', \n",
    "           'Lightning bolt', 'Magic arrow', 'Contagion', 'Magic arrow', 'Magic arrow']\n",
    "```\n",
    "\n",
    "Good luck!"
   ]
  },
  {
   "cell_type": "code",
   "execution_count": 6,
   "metadata": {},
   "outputs": [],
   "source": [
    "# 1. Spells now have a name and there is a dictionary that relates that name to a power.\n",
    "# variables\n",
    "\n",
    "POWER = {\n",
    "    'Fireball': 50, \n",
    "    'Lightning bolt': 40, \n",
    "    'Magic arrow': 10, \n",
    "    'Black Tentacles': 25, \n",
    "    'Contagion': 45\n",
    "}\n",
    "\n",
    "gandalf = ['Fireball', 'Lightning bolt', 'Lightning bolt', 'Magic arrow', 'Fireball', \n",
    "           'Magic arrow', 'Lightning bolt', 'Fireball', 'Magic arrow', 'Fireball']\n",
    "saruman = ['Contagion', 'Contagion', 'Black Tentacles', 'Fireball', 'Black Tentacles', \n",
    "           'Lightning bolt', 'Magic arrow', 'Contagion', 'Magic arrow', 'Magic arrow']"
   ]
  },
  {
   "cell_type": "code",
   "execution_count": 7,
   "metadata": {},
   "outputs": [
    {
     "name": "stdout",
     "output_type": "stream",
     "text": [
      "gandalf_power = [50, 40, 40, 10, 50, 10, 40, 50, 10, 50]\n",
      "saruman_power = [45, 45, 25, 50, 25, 40, 10, 45, 10, 10]\n"
     ]
    }
   ],
   "source": [
    "# Assign spell power lists to variables\n",
    "'''\n",
    "First step is to find out the actual values for the spells casted. \n",
    "So I defined a function that gets every element in a list and checks if it is in a dictionary.\n",
    "In case the element of the list is found in the keys, I append the value in a local list.\n",
    "After all the comparisons are done, the function returns the local list.\n",
    "\n",
    "To get the power values for each sorcerer, we need to call the function using the list of powers and the dictionary.\n",
    "I do that twice and store the results in a variable per mage.'''\n",
    "\n",
    "def power_to_list(power_list,power_dict):\n",
    "    power_values = []\n",
    "    for i in power_list:\n",
    "        for j in power_dict:\n",
    "            if i == j:\n",
    "                power_values.append(power_dict[j])\n",
    "    return power_values\n",
    "\n",
    "gandalf_power = power_to_list(gandalf,POWER)\n",
    "saruman_power = power_to_list(saruman,POWER)\n",
    "\n",
    "print(\"gandalf_power =\", gandalf_power)\n",
    "print(\"saruman_power =\", saruman_power)"
   ]
  },
  {
   "cell_type": "code",
   "execution_count": 20,
   "metadata": {
    "scrolled": true
   },
   "outputs": [
    {
     "name": "stdout",
     "output_type": "stream",
     "text": [
      "Nobody wins.\n"
     ]
    }
   ],
   "source": [
    "# 2. A sorcerer wins if he succeeds in winning 3 spell clashes in a row.\n",
    "# Execution of spell clashes\n",
    "\n",
    "if len(gandalf_power) == len(saruman_power):\n",
    "    for i in range(len(saruman_power)-2):\n",
    "        if gandalf_power[i] > saruman_power[i] and gandalf_power[i+1] > saruman_power[i+1] and gandalf_power[i+2] > saruman_power[i+2]:\n",
    "            print(\"Gandalf wins!\")\n",
    "        elif gandalf_power[i] < saruman_power[i] and gandalf_power[i+1] < saruman_power[i+1] < gandalf_power[i+2] > saruman_power[i+2]:\n",
    "            print(\"Saruman wins!\")\n",
    "    print(\"Nobody wins.\")\n"
   ]
  },
  {
   "cell_type": "code",
   "execution_count": null,
   "metadata": {},
   "outputs": [],
   "source": []
  },
  {
   "cell_type": "code",
   "execution_count": 72,
   "metadata": {},
   "outputs": [
    {
     "name": "stdout",
     "output_type": "stream",
     "text": [
      "Gandalf's average spell power is: 35.0\n",
      "Saruman's average spell power is: 30.5\n"
     ]
    }
   ],
   "source": [
    "# 3. Average of each of the spell lists.\n",
    "gandalf_average = sum(gandalf_power)/len(gandalf_power)\n",
    "print(\"Gandalf's average spell power is:\", gandalf_average)\n",
    "\n",
    "saruman_average = sum(saruman_power)/len(saruman_power)\n",
    "print(\"Saruman's average spell power is:\", saruman_average)"
   ]
  },
  {
   "cell_type": "code",
   "execution_count": 73,
   "metadata": {},
   "outputs": [
    {
     "name": "stdout",
     "output_type": "stream",
     "text": [
      "Gandalf's spells standard deviation is: 16.881943016134134\n",
      "Saruman's spells standard deviation is: 15.56438241627338\n"
     ]
    }
   ],
   "source": [
    "# 4. Standard deviation of each of the spell lists.\n",
    "\n",
    "import numpy\n",
    "print(\"Gandalf's spells standard deviation is:\", numpy.std(gandalf_power))\n",
    "print(\"Saruman's spells standard deviation is:\", numpy.std(saruman_power))"
   ]
  },
  {
   "cell_type": "code",
   "execution_count": null,
   "metadata": {},
   "outputs": [],
   "source": []
  }
 ],
 "metadata": {
  "kernelspec": {
   "display_name": "Python 3",
   "language": "python",
   "name": "python3"
  },
  "language_info": {
   "codemirror_mode": {
    "name": "ipython",
    "version": 3
   },
   "file_extension": ".py",
   "mimetype": "text/x-python",
   "name": "python",
   "nbconvert_exporter": "python",
   "pygments_lexer": "ipython3",
   "version": "3.7.3"
  }
 },
 "nbformat": 4,
 "nbformat_minor": 2
}
